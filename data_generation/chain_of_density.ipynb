{
 "cells": [
  {
   "cell_type": "code",
   "execution_count": 1,
   "metadata": {},
   "outputs": [],
   "source": [
    "import os\n",
    "os.environ['CUDA_VISIBLE_DEVICES'] = \"\""
   ]
  },
  {
   "cell_type": "code",
   "execution_count": 2,
   "metadata": {},
   "outputs": [],
   "source": [
    "import pandas as pd"
   ]
  },
  {
   "cell_type": "code",
   "execution_count": 5,
   "metadata": {},
   "outputs": [],
   "source": [
    "df = pd.read_csv('../generated_datasets/df_generated.csv')"
   ]
  },
  {
   "cell_type": "code",
   "execution_count": 6,
   "metadata": {},
   "outputs": [
    {
     "data": {
      "text/html": [
       "<div>\n",
       "<style scoped>\n",
       "    .dataframe tbody tr th:only-of-type {\n",
       "        vertical-align: middle;\n",
       "    }\n",
       "\n",
       "    .dataframe tbody tr th {\n",
       "        vertical-align: top;\n",
       "    }\n",
       "\n",
       "    .dataframe thead th {\n",
       "        text-align: right;\n",
       "    }\n",
       "</style>\n",
       "<table border=\"1\" class=\"dataframe\">\n",
       "  <thead>\n",
       "    <tr style=\"text-align: right;\">\n",
       "      <th></th>\n",
       "      <th>COUNTRY</th>\n",
       "      <th>ID_NUM</th>\n",
       "      <th>NAME_STUDENT</th>\n",
       "      <th>EMAIL</th>\n",
       "      <th>USERNAME</th>\n",
       "      <th>PHONE_NUM</th>\n",
       "      <th>URL_PERSONAL</th>\n",
       "      <th>STREET_ADDRESS</th>\n",
       "    </tr>\n",
       "  </thead>\n",
       "  <tbody>\n",
       "    <tr>\n",
       "      <th>0</th>\n",
       "      <td>fr_FR</td>\n",
       "      <td>374540118piRfBbnGbmACrWSv</td>\n",
       "      <td>Antoinette Hamon</td>\n",
       "      <td>antoinette_hamon@dupre.org</td>\n",
       "      <td>jpons</td>\n",
       "      <td>0564596965</td>\n",
       "      <td>https://linkedin.com/in/jpons</td>\n",
       "      <td>47, rue de Grondin 32275 Saint Adrienne</td>\n",
       "    </tr>\n",
       "    <tr>\n",
       "      <th>1</th>\n",
       "      <td>en_US</td>\n",
       "      <td>950714306wMZUIyJOxmcXfgrO</td>\n",
       "      <td>Nicholas Rosales</td>\n",
       "      <td>nicholas_rosales@morales-rodriguez.com</td>\n",
       "      <td>nicholas_rosales95</td>\n",
       "      <td>968-319-5485</td>\n",
       "      <td>https://github.com/nicholas_rosales95</td>\n",
       "      <td>1694 Dunn Road Suite 180 Fryeside, SD 39082</td>\n",
       "    </tr>\n",
       "    <tr>\n",
       "      <th>2</th>\n",
       "      <td>en_US</td>\n",
       "      <td>731993941MIkyOoXoZzeKnzji</td>\n",
       "      <td>Marc Thomas</td>\n",
       "      <td>kevin42@example.com</td>\n",
       "      <td>marc_thomas687</td>\n",
       "      <td>681.282.3799x5748</td>\n",
       "      <td>https://instagram.com/marc_thomas687</td>\n",
       "      <td>76007 Cervantes Greens East Janettown, OR 12395</td>\n",
       "    </tr>\n",
       "    <tr>\n",
       "      <th>3</th>\n",
       "      <td>vi_VN</td>\n",
       "      <td>598658484zoGfhOYMyMHJRRWX</td>\n",
       "      <td>Matthew Kelly</td>\n",
       "      <td>matthew_kelly@cline.biz</td>\n",
       "      <td>matthewkelly599</td>\n",
       "      <td>+1-883-942-8722</td>\n",
       "      <td>https://github.com/matthewkelly599</td>\n",
       "      <td>0613 Vance Highway Suite 752 North Brandy, MT ...</td>\n",
       "    </tr>\n",
       "    <tr>\n",
       "      <th>4</th>\n",
       "      <td>en_US</td>\n",
       "      <td>156018640GGOOMjWIaubxppfU</td>\n",
       "      <td>Michelle Ortega</td>\n",
       "      <td>michelle_ortega@frazier-kramer.com</td>\n",
       "      <td>michelle_ortega465</td>\n",
       "      <td>001-308-455-8308</td>\n",
       "      <td>https://linkedin.com/in/michelle_ortega465</td>\n",
       "      <td>PSC 2523, Box 0846 APO AE 29910</td>\n",
       "    </tr>\n",
       "    <tr>\n",
       "      <th>...</th>\n",
       "      <td>...</td>\n",
       "      <td>...</td>\n",
       "      <td>...</td>\n",
       "      <td>...</td>\n",
       "      <td>...</td>\n",
       "      <td>...</td>\n",
       "      <td>...</td>\n",
       "      <td>...</td>\n",
       "    </tr>\n",
       "    <tr>\n",
       "      <th>95</th>\n",
       "      <td>en_US</td>\n",
       "      <td>493795596kfqxdOUBTaEioRaS</td>\n",
       "      <td>Sean Rodriguez</td>\n",
       "      <td>sean_rodriguez@fletcher.biz</td>\n",
       "      <td>sean_rodriguez706</td>\n",
       "      <td>(312)241-6450x196</td>\n",
       "      <td>https://youtube.com/c/sean_rodriguez706</td>\n",
       "      <td>PSC 8908, Box 2505 APO AP 62799</td>\n",
       "    </tr>\n",
       "    <tr>\n",
       "      <th>96</th>\n",
       "      <td>de_DE</td>\n",
       "      <td>522732829ofgxiXPeKNCUOARn</td>\n",
       "      <td>Kreszentia Kitzmann</td>\n",
       "      <td>carlos35@example.com</td>\n",
       "      <td>cscheel</td>\n",
       "      <td>0859132745</td>\n",
       "      <td>https://github.com/cscheel</td>\n",
       "      <td>Heinrichstr. 88 85471 Biedenkopf</td>\n",
       "    </tr>\n",
       "    <tr>\n",
       "      <th>97</th>\n",
       "      <td>en_US</td>\n",
       "      <td>427541018UwupPpMUsQnMmsYF</td>\n",
       "      <td>Meredith Garcia</td>\n",
       "      <td>meredith_garcia@villarreal.biz</td>\n",
       "      <td>amanda39</td>\n",
       "      <td>392.641.2946x2088</td>\n",
       "      <td>https://linkedin.com/in/amanda39</td>\n",
       "      <td>16383 Shelly Terrace Suite 755 Wesleystad, MN ...</td>\n",
       "    </tr>\n",
       "    <tr>\n",
       "      <th>98</th>\n",
       "      <td>en_US</td>\n",
       "      <td>25419126auyAIWXbeqcYGOXB</td>\n",
       "      <td>Christopher King</td>\n",
       "      <td>christopher_king@murphy.info</td>\n",
       "      <td>christopherking609</td>\n",
       "      <td>965-367-0380</td>\n",
       "      <td>https://linkedin.com/in/christopherking609</td>\n",
       "      <td>398 Sarah Estate Moonfort, MH 77571</td>\n",
       "    </tr>\n",
       "    <tr>\n",
       "      <th>99</th>\n",
       "      <td>fr_FR</td>\n",
       "      <td>107891426tGZIzOtUdfhNdQhT</td>\n",
       "      <td>Benjamin Fischer</td>\n",
       "      <td>morinbernard@example.net</td>\n",
       "      <td>laurentluce</td>\n",
       "      <td>0493542192</td>\n",
       "      <td>https://instagram.com/laurentluce</td>\n",
       "      <td>280, boulevard de Lopes 78810 RocheBourg</td>\n",
       "    </tr>\n",
       "  </tbody>\n",
       "</table>\n",
       "<p>100 rows × 8 columns</p>\n",
       "</div>"
      ],
      "text/plain": [
       "   COUNTRY                     ID_NUM         NAME_STUDENT  \\\n",
       "0    fr_FR  374540118piRfBbnGbmACrWSv     Antoinette Hamon   \n",
       "1    en_US  950714306wMZUIyJOxmcXfgrO     Nicholas Rosales   \n",
       "2    en_US  731993941MIkyOoXoZzeKnzji          Marc Thomas   \n",
       "3    vi_VN  598658484zoGfhOYMyMHJRRWX        Matthew Kelly   \n",
       "4    en_US  156018640GGOOMjWIaubxppfU      Michelle Ortega   \n",
       "..     ...                        ...                  ...   \n",
       "95   en_US  493795596kfqxdOUBTaEioRaS       Sean Rodriguez   \n",
       "96   de_DE  522732829ofgxiXPeKNCUOARn  Kreszentia Kitzmann   \n",
       "97   en_US  427541018UwupPpMUsQnMmsYF      Meredith Garcia   \n",
       "98   en_US   25419126auyAIWXbeqcYGOXB     Christopher King   \n",
       "99   fr_FR  107891426tGZIzOtUdfhNdQhT     Benjamin Fischer   \n",
       "\n",
       "                                     EMAIL            USERNAME  \\\n",
       "0               antoinette_hamon@dupre.org               jpons   \n",
       "1   nicholas_rosales@morales-rodriguez.com  nicholas_rosales95   \n",
       "2                      kevin42@example.com      marc_thomas687   \n",
       "3                  matthew_kelly@cline.biz     matthewkelly599   \n",
       "4       michelle_ortega@frazier-kramer.com  michelle_ortega465   \n",
       "..                                     ...                 ...   \n",
       "95             sean_rodriguez@fletcher.biz   sean_rodriguez706   \n",
       "96                    carlos35@example.com             cscheel   \n",
       "97          meredith_garcia@villarreal.biz            amanda39   \n",
       "98            christopher_king@murphy.info  christopherking609   \n",
       "99                morinbernard@example.net         laurentluce   \n",
       "\n",
       "            PHONE_NUM                                URL_PERSONAL  \\\n",
       "0          0564596965               https://linkedin.com/in/jpons   \n",
       "1        968-319-5485       https://github.com/nicholas_rosales95   \n",
       "2   681.282.3799x5748        https://instagram.com/marc_thomas687   \n",
       "3     +1-883-942-8722          https://github.com/matthewkelly599   \n",
       "4    001-308-455-8308  https://linkedin.com/in/michelle_ortega465   \n",
       "..                ...                                         ...   \n",
       "95  (312)241-6450x196     https://youtube.com/c/sean_rodriguez706   \n",
       "96         0859132745                  https://github.com/cscheel   \n",
       "97  392.641.2946x2088            https://linkedin.com/in/amanda39   \n",
       "98       965-367-0380  https://linkedin.com/in/christopherking609   \n",
       "99         0493542192           https://instagram.com/laurentluce   \n",
       "\n",
       "                                       STREET_ADDRESS  \n",
       "0             47, rue de Grondin 32275 Saint Adrienne  \n",
       "1         1694 Dunn Road Suite 180 Fryeside, SD 39082  \n",
       "2     76007 Cervantes Greens East Janettown, OR 12395  \n",
       "3   0613 Vance Highway Suite 752 North Brandy, MT ...  \n",
       "4                     PSC 2523, Box 0846 APO AE 29910  \n",
       "..                                                ...  \n",
       "95                    PSC 8908, Box 2505 APO AP 62799  \n",
       "96                   Heinrichstr. 88 85471 Biedenkopf  \n",
       "97  16383 Shelly Terrace Suite 755 Wesleystad, MN ...  \n",
       "98                398 Sarah Estate Moonfort, MH 77571  \n",
       "99           280, boulevard de Lopes 78810 RocheBourg  \n",
       "\n",
       "[100 rows x 8 columns]"
      ]
     },
     "execution_count": 6,
     "metadata": {},
     "output_type": "execute_result"
    }
   ],
   "source": [
    "df"
   ]
  },
  {
   "cell_type": "code",
   "execution_count": 18,
   "metadata": {},
   "outputs": [],
   "source": [
    "# pip install openai"
   ]
  },
  {
   "cell_type": "code",
   "execution_count": 19,
   "metadata": {},
   "outputs": [],
   "source": [
    "import os\n",
    "import numpy as np\n",
    "import openai\n",
    "from openai import OpenAI"
   ]
  },
  {
   "cell_type": "code",
   "execution_count": 30,
   "metadata": {},
   "outputs": [
    {
     "data": {
      "text/plain": [
       "True"
      ]
     },
     "execution_count": 30,
     "metadata": {},
     "output_type": "execute_result"
    }
   ],
   "source": [
    "# !pip install python-dotenv\n",
    "from dotenv import load_dotenv\n",
    "load_dotenv()"
   ]
  },
  {
   "cell_type": "code",
   "execution_count": 31,
   "metadata": {},
   "outputs": [],
   "source": [
    "os.environ['OPENAI_BASE_URL'] = 'https://openai.deeppavlov.ai/v1/'\n",
    "# openai.api_key = os.environ.get(\"TOKEN\")"
   ]
  },
  {
   "cell_type": "code",
   "execution_count": 33,
   "metadata": {},
   "outputs": [],
   "source": [
    "client = OpenAI()"
   ]
  },
  {
   "cell_type": "code",
   "execution_count": 34,
   "metadata": {},
   "outputs": [],
   "source": [
    "def generate_on_user_essay(row):\n",
    "    prompt_template = \"\"\"\n",
    "    You are {first_name} {last_name}. \n",
    "    Write a short essay as your final assignment for course on critical thinking. \n",
    "    Mention your personal info:\n",
    "    email {email}, address {address}, phone number {phone_num}, personal url {url}, username {username} and user id {userid}\n",
    "    Mention all of the above. Write an essay about 420 words long. \n",
    "    Begin with the title **Essay**\"\"\"\n",
    "    \n",
    "    first_name = row['NAME_STUDENT'].split()[0]\n",
    "    last_name = row['NAME_STUDENT'].split()[1]\n",
    "    email = row['EMAIL']\n",
    "    phone_num = row['PHONE_NUM']\n",
    "    address = row['STREET_ADDRESS']\n",
    "    url = row['URL_PERSONAL']\n",
    "    username = row['USERNAME']\n",
    "    userid = row['ID_NUM']\n",
    "    # Fill in prompt with PII\n",
    "    prompt = prompt_template.format(first_name=first_name,\n",
    "                                    last_name=last_name,\n",
    "                                    email=email,\n",
    "                                    phone_num=phone_num,\n",
    "                                    address=address,\n",
    "                                    url=url,\n",
    "                                    username=username,\n",
    "                                    userid=userid\n",
    "                                   )\n",
    "    return prompt"
   ]
  },
  {
   "cell_type": "code",
   "execution_count": 35,
   "metadata": {},
   "outputs": [],
   "source": [
    "for _, row in df.iterrows():\n",
    "    break"
   ]
  },
  {
   "cell_type": "code",
   "execution_count": 36,
   "metadata": {},
   "outputs": [],
   "source": [
    "prompt = generate_on_user_essay(row)"
   ]
  },
  {
   "cell_type": "code",
   "execution_count": 37,
   "metadata": {},
   "outputs": [
    {
     "name": "stdout",
     "output_type": "stream",
     "text": [
      "\n",
      "    You are Antoinette Hamon. \n",
      "    Write a short essay as your final assignment for course on critical thinking. \n",
      "    Mention your personal info:\n",
      "    email antoinette_hamon@dupre.org, address 47, rue de Grondin 32275 Saint Adrienne, phone number 0564596965, personal url https://linkedin.com/in/jpons, username jpons and user id 374540118piRfBbnGbmACrWSv\n",
      "    Mention all of the above. Write an essay about 420 words long. \n",
      "    Begin with the title **Essay**\n"
     ]
    }
   ],
   "source": [
    "print(prompt)"
   ]
  },
  {
   "cell_type": "code",
   "execution_count": 38,
   "metadata": {},
   "outputs": [],
   "source": [
    "baseline = client.chat.completions.create(\n",
    "    messages=[\n",
    "        {\n",
    "            \"role\": \"user\",\n",
    "            \"content\": prompt,\n",
    "        }\n",
    "    ],\n",
    "    model=\"gpt-3.5-turbo\",\n",
    ").choices[0].message.content"
   ]
  },
  {
   "cell_type": "code",
   "execution_count": 39,
   "metadata": {},
   "outputs": [
    {
     "name": "stdout",
     "output_type": "stream",
     "text": [
      "**Essay**\n",
      "\n",
      "As a critical thinker, it is essential to question assumptions, analyze information, and evaluate evidence in order to form well-reasoned conclusions. Throughout this course on critical thinking, I have learned valuable skills that have enhanced my ability to problem-solve and make informed decisions. \n",
      "\n",
      "My name is Antoinette Hamon, and I can be reached at antoinette_hamon@dupre.org. My address is 47, rue de Grondin, Saint Adrienne, and my phone number is 0564596965. You can find more about me on my personal URL https://linkedin.com/in/jpons. My username is jpons, and my user ID is 374540118piRfBbnGbmACrWSv.\n",
      "\n",
      "Critical thinking is a key component of academic, professional, and personal success. It enables individuals to navigate complex situations, analyze arguments, and reach sound conclusions. By applying critical thinking skills, individuals can avoid making hasty decisions based on biases or incomplete information.\n",
      "\n",
      "One of the most important aspects of critical thinking is the ability to identify and evaluate assumptions. In today's world, where information is readily available and often overwhelming, it is crucial to question the underlying beliefs and preconceptions that influence our thoughts and actions. By recognizing and challenging assumptions, we can gain a deeper understanding of issues and make more informed choices.\n",
      "\n",
      "Analyzing information is another critical thinking skill that I have honed in this course. In a world filled with misinformation and fake news, it is essential to sift through sources, evaluate their credibility, and discern fact from opinion. By approaching information with a critical eye, we can separate truth from fiction and make well-founded judgments.\n",
      "\n",
      "Lastly, evaluating evidence is paramount in developing sound arguments and making persuasive cases. In this course, I have learned to scrutinize evidence, assess its relevance and reliability, and draw logical conclusions based on the available data. By weighing evidence carefully, we can construct coherent arguments that stand up to scrutiny and persuade others of our viewpoint.\n",
      "\n",
      "In conclusion, critical thinking is a vital skill that everyone should cultivate in order to thrive in today's complex world. By questioning assumptions, analyzing information, and evaluating evidence, individuals can make well-informed decisions and engage in thoughtful discourse. I am grateful for the opportunity to enhance my critical thinking skills in this course, and I look forward to applying them in all aspects of my life.\n",
      "\n",
      "Thank you for reading.\n",
      "\n",
      "Antoinette Hamon\n"
     ]
    }
   ],
   "source": [
    "print(baseline)"
   ]
  },
  {
   "cell_type": "code",
   "execution_count": 40,
   "metadata": {},
   "outputs": [
    {
     "data": {
      "text/plain": [
       "379"
      ]
     },
     "execution_count": 40,
     "metadata": {},
     "output_type": "execute_result"
    }
   ],
   "source": [
    "len(baseline.split())"
   ]
  },
  {
   "cell_type": "code",
   "execution_count": 41,
   "metadata": {},
   "outputs": [],
   "source": [
    "def generate_student_essay2(row):\n",
    "    prompt_template = \"\"\"\n",
    "    You are {first_name} {last_name}, a student from France studying information technology at the university located at {address}. Tonight, you're reflecting on the pivotal moment when you developed an innovative messaging app, leading to your invitation to an international developers' conference. This experience illuminated the importance of critical thinking in both technology and everyday life. \n",
    "    \n",
    "    In your final assignment for the course on critical thinking, delve into how this experience shaped your understanding of innovation, problem-solving, and the impact of technology on society. Discuss how critical thinking played a crucial role in your development process and the ways in which it can be applied to future technological advancements.\n",
    "\n",
    "    While composing your essay, mention your personal info: \n",
    "    - Email: {email}\n",
    "    - Address: {address}\n",
    "    - Phone number: {phone_num}\n",
    "    - Personal URL: {url}\n",
    "    - Username: {username}\n",
    "    - User ID: {userid}\n",
    "\n",
    "    Ensure to weave these details naturally into your narrative, showcasing the importance of communication, networking, and personal identity in the digital age. Write an essay about 420 words long. Start with the title **Critical Thinking in Technology: A Personal Journey**.\n",
    "    \"\"\"\n",
    "\n",
    "    first_name = row['NAME_STUDENT'].split()[0]\n",
    "    last_name = row['NAME_STUDENT'].split()[-1]  # Ensures last name is captured correctly, even if middle names are present\n",
    "    email = row['EMAIL']\n",
    "    phone_num = row['PHONE_NUM']\n",
    "    address = row['STREET_ADDRESS']\n",
    "    url = row['URL_PERSONAL']\n",
    "    username = row['USERNAME']\n",
    "    userid = row['ID_NUM']\n",
    "\n",
    "    # Fill in the prompt with the student's PII and assignment details\n",
    "    prompt = prompt_template.format(first_name=first_name,\n",
    "                                    last_name=last_name,\n",
    "                                    email=email,\n",
    "                                    phone_num=phone_num,\n",
    "                                    address=address,\n",
    "                                    url=url,\n",
    "                                    username=username,\n",
    "                                    userid=userid\n",
    "                                   )\n",
    "    return prompt"
   ]
  },
  {
   "cell_type": "code",
   "execution_count": 42,
   "metadata": {},
   "outputs": [],
   "source": [
    "prompt2 = generate_student_essay2(row)"
   ]
  },
  {
   "cell_type": "code",
   "execution_count": 43,
   "metadata": {},
   "outputs": [
    {
     "name": "stdout",
     "output_type": "stream",
     "text": [
      "\n",
      "    You are Antoinette Hamon, a student from France studying information technology at the university located at 47, rue de Grondin 32275 Saint Adrienne. Tonight, you're reflecting on the pivotal moment when you developed an innovative messaging app, leading to your invitation to an international developers' conference. This experience illuminated the importance of critical thinking in both technology and everyday life. \n",
      "    \n",
      "    In your final assignment for the course on critical thinking, delve into how this experience shaped your understanding of innovation, problem-solving, and the impact of technology on society. Discuss how critical thinking played a crucial role in your development process and the ways in which it can be applied to future technological advancements.\n",
      "\n",
      "    While composing your essay, mention your personal info: \n",
      "    - Email: antoinette_hamon@dupre.org\n",
      "    - Address: 47, rue de Grondin 32275 Saint Adrienne\n",
      "    - Phone number: 0564596965\n",
      "    - Personal URL: https://linkedin.com/in/jpons\n",
      "    - Username: jpons\n",
      "    - User ID: 374540118piRfBbnGbmACrWSv\n",
      "\n",
      "    Ensure to weave these details naturally into your narrative, showcasing the importance of communication, networking, and personal identity in the digital age. Write an essay about 420 words long. Start with the title **Critical Thinking in Technology: A Personal Journey**.\n",
      "    \n"
     ]
    }
   ],
   "source": [
    "print(prompt2)"
   ]
  },
  {
   "cell_type": "code",
   "execution_count": 44,
   "metadata": {},
   "outputs": [],
   "source": [
    "baseline2 = client.chat.completions.create(\n",
    "    messages=[\n",
    "        {\n",
    "            \"role\": \"user\",\n",
    "            \"content\": prompt2,\n",
    "        }\n",
    "    ],\n",
    "    model=\"gpt-3.5-turbo\",\n",
    ").choices[0].message.content"
   ]
  },
  {
   "cell_type": "code",
   "execution_count": 45,
   "metadata": {},
   "outputs": [
    {
     "name": "stdout",
     "output_type": "stream",
     "text": [
      "**Critical Thinking in Technology: A Personal Journey**\n",
      "\n",
      "As a student of information technology at the university located at 47, rue de Grondin 32275 Saint Adrienne, I have always been fascinated by the intersection of technology and society. This fascination led me to develop an innovative messaging app that catapulted me into the world of international developers' conferences. This experience not only solidified my understanding of innovation and problem-solving but also highlighted the critical role that critical thinking plays in technological advancements.\n",
      "\n",
      "When I first embarked on the journey of developing my messaging app, I was faced with numerous challenges and obstacles. From coming up with a unique concept to coding and designing the app, every step required careful analysis and strategic decision-making. It was through the application of critical thinking that I was able to navigate these challenges effectively and bring my vision to life.\n",
      "\n",
      "One of the key aspects of critical thinking that proved vital in the development process was the ability to think outside the box. By challenging traditional assumptions and exploring unconventional solutions, I was able to create a messaging app that stood out in a crowded market. This creative approach not only set my app apart but also pushed the boundaries of what was thought possible in the field of technology.\n",
      "\n",
      "Furthermore, critical thinking enabled me to anticipate potential problems and proactively address them before they arose. By carefully evaluating each aspect of the app's functionality and user experience, I was able to identify and rectify potential issues, ensuring a smooth and seamless user experience. This proactive problem-solving approach not only enhanced the quality of the app but also highlighted the importance of thorough analysis in the development process.\n",
      "\n",
      "Moreover, my experience with developing the messaging app emphasized the broader implications of technology on society. As technology continues to advance at a rapid pace, it is crucial for developers to consider the ethical and societal implications of their creations. Through critical thinking, developers can ensure that their innovations have a positive impact on society and contribute to the greater good.\n",
      "\n",
      "In conclusion, my journey of developing an innovative messaging app has underscored the importance of critical thinking in technology. By leveraging critical thinking skills, I was able to overcome challenges, push boundaries, and create a product that made a meaningful impact. As I continue to navigate the ever-evolving landscape of technology, I am confident that critical thinking will remain a cornerstone of my approach to innovation.\n"
     ]
    }
   ],
   "source": [
    "print(baseline2)"
   ]
  },
  {
   "cell_type": "code",
   "execution_count": 47,
   "metadata": {},
   "outputs": [],
   "source": [
    "gpt4_baseline2 = client.chat.completions.create(\n",
    "    messages=[\n",
    "        {\n",
    "            \"role\": \"user\",\n",
    "            \"content\": prompt2,\n",
    "        }\n",
    "    ],\n",
    "    model=\"gpt-4-1106-preview\",\n",
    ").choices[0].message.content"
   ]
  },
  {
   "cell_type": "code",
   "execution_count": 48,
   "metadata": {},
   "outputs": [
    {
     "name": "stdout",
     "output_type": "stream",
     "text": [
      "Title: Critical Thinking in Technology: A Personal Journey\n",
      "\n",
      "It was amid the bustling student life of our university nestled at 47, rue de Grondin in the charming town of Saint Adrienne, that my journey with critical thinking began. As Antoinette Hamon, a student deeply immersed in the ever-evolving field of information technology, the creation of my innovative messaging app was not just a burst of inspiration but the fruit of diligent labor and, most crucially, critical thinking.\n",
      "\n",
      "Reflecting on this transformative experience, I can see how the development of my app, which led to an invitation to an international developers' conference, brought to light the profound influence critical thinking has on innovation and problem-solving. In the realms of technology and beyond, questioning norms, challenging existing protocols, and scrutinizing every solution has been pivotal.\n",
      "\n",
      "This entire endeavor started with a simple yet vital problem: effective communication. As antoinette_hamon@dupre.org, the need to manage conversations, network efficiently, and maintain my digital identity became a clear priority. By employing critical thinking, I evaluated current messaging platforms, identified their flaws, and sought to innovate. My focus was on creating a tool that would not only serve users like myself but would also transform the way we interact in the digital space.\n",
      "\n",
      "In developing the app, I drew upon the importance of personal information security and the integration of user-centric features. My own experiences, like sharing my professional pursuits through my personal URL, https://linkedin.com/in/jpons, influenced how I imagined users would want to control their privacy and online presence.\n",
      "\n",
      "Every step - from conceptualization, design, to prototyping - demanded critical analysis. As I encountered various challenges, my phone, 0564596965, rang frequently with calls from peers and mentors alike, challenging my assumptions and pushing me to refine my vision. The process underscored how critical thinking was not solitary but collaborative, benefiting from diverse viewpoints and expertise.\n",
      "\n",
      "It was through this exacting approach that my username, jpons, became known within the tech circles. Contributing to a global conversation, I learned how technology's impact on society is profound, necessitating ethical considerations and responsible deployment. Our well-being, the way we absorb information, and engage with others, are all molded by these digital tools.\n",
      "\n",
      "Looking ahead, my User ID, 374540118piRfBbnGbmACrWSv, is more than just a unique identifier; it represents my place in the vast digital ecosystem where every innovation can ripple out to touch millions. Hence, the critical thinking skills honed during this journey are not just applicable to future technological advancements but are imperative.\n",
      "\n",
      "In summary, critical thinking is the bedrock upon which meaningful innovation rests. My personal encounter with the development of a messaging app is a testament to how such an approach can yield tools that not only serve practical purposes but also enhance and simplify the human experience. It is my fervent hope that this ethos will be embraced in our continuous quest for technological advancement—for it is through critical thinking that we unlock the infinite potential to innovate, solve, and uplift society.\n"
     ]
    }
   ],
   "source": [
    "print(gpt4_baseline2)"
   ]
  },
  {
   "cell_type": "code",
   "execution_count": 49,
   "metadata": {},
   "outputs": [],
   "source": [
    "def generate_student_essay_partial_pii(row):\n",
    "    prompt_template = \"\"\"\n",
    "    You are {first_name} {last_name}, a student from France studying information technology at the university located at {address}. Tonight, you're reflecting on the pivotal moment when you developed an innovative messaging app, leading to your invitation to an international developers' conference. This experience illuminated the importance of critical thinking in both technology and everyday life. \n",
    "    \n",
    "    In your final assignment for the course on critical thinking, delve into how this experience shaped your understanding of innovation, problem-solving, and the impact of technology on society. Discuss how critical thinking played a crucial role in your development process and the ways in which it can be applied to future technological advancements.\n",
    "\n",
    "    While composing your essay, mention your personal info: \n",
    "    - Name {first_name} {last_name}\n",
    "    - Address: {address}\n",
    "    - Username: {username}\n",
    "    \n",
    "    Ensure to weave these details naturally into your narrative, showcasing the importance of communication, networking, and personal identity in the digital age. Write an essay about 420 words long. Start with the title **Critical Thinking in Technology: A Personal Journey**.\n",
    "    \"\"\"\n",
    "\n",
    "    first_name = row['NAME_STUDENT'].split()[0]\n",
    "    last_name = row['NAME_STUDENT'].split()[-1]  # Ensures last name is captured correctly, even if middle names are present\n",
    "    email = row['EMAIL']\n",
    "    phone_num = row['PHONE_NUM']\n",
    "    address = row['STREET_ADDRESS']\n",
    "    url = row['URL_PERSONAL']\n",
    "    username = row['USERNAME']\n",
    "    userid = row['ID_NUM']\n",
    "\n",
    "    # Fill in the prompt with the student's PII and assignment details\n",
    "    prompt = prompt_template.format(first_name=first_name,\n",
    "                                    last_name=last_name,\n",
    "                                    email=email,\n",
    "                                    phone_num=phone_num,\n",
    "                                    address=address,\n",
    "                                    url=url,\n",
    "                                    username=username,\n",
    "                                    userid=userid\n",
    "                                   )\n",
    "    return prompt"
   ]
  },
  {
   "cell_type": "code",
   "execution_count": 50,
   "metadata": {},
   "outputs": [],
   "source": [
    "partial_pii_prompt = generate_student_essay_partial_pii(row)\n"
   ]
  },
  {
   "cell_type": "code",
   "execution_count": 51,
   "metadata": {},
   "outputs": [
    {
     "name": "stdout",
     "output_type": "stream",
     "text": [
      "\n",
      "    You are Antoinette Hamon, a student from France studying information technology at the university located at 47, rue de Grondin 32275 Saint Adrienne. Tonight, you're reflecting on the pivotal moment when you developed an innovative messaging app, leading to your invitation to an international developers' conference. This experience illuminated the importance of critical thinking in both technology and everyday life. \n",
      "    \n",
      "    In your final assignment for the course on critical thinking, delve into how this experience shaped your understanding of innovation, problem-solving, and the impact of technology on society. Discuss how critical thinking played a crucial role in your development process and the ways in which it can be applied to future technological advancements.\n",
      "\n",
      "    While composing your essay, mention your personal info: \n",
      "    - Name Antoinette Hamon\n",
      "    - Address: 47, rue de Grondin 32275 Saint Adrienne\n",
      "    - Username: jpons\n",
      "    \n",
      "    Ensure to weave these details naturally into your narrative, showcasing the importance of communication, networking, and personal identity in the digital age. Write an essay about 420 words long. Start with the title **Critical Thinking in Technology: A Personal Journey**.\n",
      "    \n"
     ]
    }
   ],
   "source": [
    "print(partial_pii_prompt)"
   ]
  },
  {
   "cell_type": "code",
   "execution_count": 55,
   "metadata": {},
   "outputs": [
    {
     "data": {
      "text/plain": [
       "{'COUNTRY': 'fr_FR',\n",
       " 'ID_NUM': '374540118piRfBbnGbmACrWSv',\n",
       " 'NAME_STUDENT': 'Antoinette Hamon',\n",
       " 'EMAIL': 'antoinette_hamon@dupre.org',\n",
       " 'USERNAME': 'jpons',\n",
       " 'PHONE_NUM': '0564596965',\n",
       " 'URL_PERSONAL': 'https://linkedin.com/in/jpons',\n",
       " 'STREET_ADDRESS': '47, rue de Grondin 32275 Saint Adrienne'}"
      ]
     },
     "execution_count": 55,
     "metadata": {},
     "output_type": "execute_result"
    }
   ],
   "source": [
    "row.to_dict()"
   ]
  },
  {
   "cell_type": "code",
   "execution_count": 52,
   "metadata": {},
   "outputs": [],
   "source": [
    "partial_pii = client.chat.completions.create(\n",
    "    messages=[\n",
    "        {\n",
    "            \"role\": \"user\",\n",
    "            \"content\": partial_pii_prompt,\n",
    "        }\n",
    "    ],\n",
    "    model=\"gpt-3.5-turbo\",\n",
    ").choices[0].message.content"
   ]
  },
  {
   "cell_type": "code",
   "execution_count": 53,
   "metadata": {},
   "outputs": [
    {
     "name": "stdout",
     "output_type": "stream",
     "text": [
      "**Critical Thinking in Technology: A Personal Journey**\n",
      "\n",
      "As Antoinette Hamon, a student of information technology at the university located at 47, rue de Grondin 32275 Saint Adrienne, I have had the privilege of experiencing the power of critical thinking in the realm of technology. One particular moment stands out vividly in my memory - the development of an innovative messaging app that not only garnered attention but also led to my invitation to an international developers' conference. This experience not only shaped my understanding of innovation and problem-solving but also shed light on the profound impact of technology on society.\n",
      "\n",
      "Throughout the development process of the messaging app, critical thinking played a crucial role. It was not merely about writing lines of code or implementing features but about truly understanding the needs of users and crafting a solution that addressed those needs effectively. I had to analyze user feedback, evaluate different design choices, and anticipate potential challenges that could arise. It was through this process of critical thinking that the app evolved from a simple concept to a sophisticated tool that resonated with users.\n",
      "\n",
      "Moreover, my experience with the messaging app underscored the importance of communication and networking in the digital age. As jpons, my online identity became synonymous with innovation and excellence, opening doors to collaborations and opportunities that I never imagined possible. Networking with other developers and tech enthusiasts not only broadened my horizons but also provided valuable insights and feedback that ultimately shaped the app's success.\n",
      "\n",
      "Beyond personal achievements, the impact of technology on society became more apparent to me through this experience. Technology has the power to connect people, facilitate communication, and drive progress, but it also comes with ethical and social implications that must be carefully considered. As a technologist, it is essential to approach innovation with a critical mindset, thinking not only about what is possible but also about what is responsible.\n",
      "\n",
      "Looking ahead, I am inspired to apply the lessons learned from this experience to future technological advancements. Critical thinking will continue to be my guiding principle, enabling me to navigate the complexities of technology and society with thoughtfulness and integrity. As Antoinette Hamon, I am committed to pushing the boundaries of innovation while always keeping in mind the broader impact on individuals and communities.\n"
     ]
    }
   ],
   "source": [
    "print(partial_pii)"
   ]
  },
  {
   "cell_type": "code",
   "execution_count": 57,
   "metadata": {},
   "outputs": [],
   "source": [
    "# https://www.kaggle.com/code/pjmathematician/pii-external-data-creation-loading\n",
    "\n",
    "def write_essay(data, client):\n",
    "    messages = [\n",
    "      {\n",
    "          \"role\":\"system\",\n",
    "          \"content\":\"\"\"\n",
    "You are an essay writer. You will be given some personal information about the student writing it, like name email etc as a dictionary. You have to write an essay that includes all the given information somewhere in the essay do not miss out any.\n",
    "\n",
    "Given information has the following keys:\n",
    "\n",
    "NAME_STUDENT - The full or partial name of a student that is not necessarily the author of the essay. This excludes instructors, authors, and other person names.\n",
    "EMAIL - A student’s email address.\n",
    "USERNAME - A student's username on any platform.\n",
    "ID_NUM - A number or sequence of characters that could be used to identify a student, such as a student ID or a social security number.\n",
    "PHONE_NUM - A phone number associated with a student.\n",
    "URL_PERSONAL - A URL that might be used to identify a student.\n",
    "STREET_ADDRESS - A full or partial street address that is associated with the student, such as their home address.\n",
    "\n",
    "Each of these will have a list of values associated with them. Ensure that you include each and every one of them in the essay. do not miss out any.\n",
    "\"\"\"\n",
    "      },\n",
    "      {\n",
    "          \"role\":\"user\",\n",
    "          \"content\":str(data)\n",
    "      }\n",
    "  ]\n",
    "    response = client.chat.completions.create(\n",
    "        model=\"gpt-3.5-turbo\",\n",
    "        messages=messages,\n",
    "        temperature = 0.1\n",
    "    )\n",
    "    return response.choices[0].message.content"
   ]
  },
  {
   "cell_type": "code",
   "execution_count": 58,
   "metadata": {},
   "outputs": [],
   "source": [
    "essay = write_essay(row.to_dict(), client)"
   ]
  },
  {
   "cell_type": "code",
   "execution_count": 59,
   "metadata": {},
   "outputs": [
    {
     "name": "stdout",
     "output_type": "stream",
     "text": [
      "In today's interconnected world, individuals like Antoinette Hamon are leveraging technology to enhance their personal and professional lives. Antoinette, whose email is antoinette_hamon@dupre.org, is a prime example of someone who understands the power of digital platforms. With a username of jpons, she navigates online spaces with ease, utilizing tools and resources to further her goals.\n",
      "\n",
      "Antoinette's unique identifier, the ID number 374540118piRfBbnGbmACrWSv, sets her apart in a sea of users, highlighting her distinct presence in the digital realm. Her phone number, 0564596965, serves as a direct line of communication, bridging the gap between virtual interactions and real-world connections.\n",
      "\n",
      "Moreover, Antoinette's personal URL, https://linkedin.com/in/jpons, showcases her professional profile, allowing her to network and engage with like-minded individuals in her field. This digital footprint is a testament to her proactive approach to personal branding and career advancement.\n",
      "\n",
      "Beyond the digital sphere, Antoinette's physical presence is felt at her street address, 47, rue de Grondin 32275 Saint Adrienne. This tangible location roots her in the physical world, reminding us that behind every online persona is a real person with a unique story and journey.\n",
      "\n",
      "In conclusion, individuals like Antoinette Hamon exemplify the seamless integration of technology into our daily lives. By embracing digital tools and platforms, she is able to navigate both the virtual landscape and the physical world with confidence and purpose. Antoinette's story serves as a reminder of the endless possibilities that arise when we harness the power of technology to enrich our lives.\n"
     ]
    }
   ],
   "source": [
    "print(essay)"
   ]
  },
  {
   "cell_type": "code",
   "execution_count": null,
   "metadata": {},
   "outputs": [],
   "source": []
  }
 ],
 "metadata": {
  "kernelspec": {
   "display_name": "kaggle",
   "language": "python",
   "name": "python3"
  },
  "language_info": {
   "codemirror_mode": {
    "name": "ipython",
    "version": 3
   },
   "file_extension": ".py",
   "mimetype": "text/x-python",
   "name": "python",
   "nbconvert_exporter": "python",
   "pygments_lexer": "ipython3",
   "version": "3.10.4"
  }
 },
 "nbformat": 4,
 "nbformat_minor": 2
}
