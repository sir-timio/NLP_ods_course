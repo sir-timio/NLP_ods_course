{
 "cells": [
  {
   "cell_type": "code",
   "execution_count": 22,
   "metadata": {},
   "outputs": [
    {
     "name": "stderr",
     "output_type": "stream",
     "text": [
      "/tmp/ipykernel_2086638/3473860468.py:7: DeprecationWarning: Importing display from IPython.core.display is deprecated since IPython 7.14, please import from IPython display\n",
      "  from IPython.core.display import display, HTML\n"
     ]
    }
   ],
   "source": [
    "import spacy\n",
    "from spacy.tokens import Span, Doc\n",
    "from spacy import displacy\n",
    "from spacy.lang.en import English\n",
    "\n",
    "import numpy as np\n",
    "from IPython.core.display import display, HTML\n",
    "\n",
    "\n",
    "word_tokenizer = English().tokenizer\n",
    "\n",
    "options = {\n",
    "        \"colors\": {\n",
    "            \"B-NAME_STUDENT\": \"aqua\",\n",
    "            \"I-NAME_STUDENT\": \"skyblue\",\n",
    "            \"B-EMAIL\": \"limegreen\",\n",
    "            \"I-EMAIL\": \"lime\",\n",
    "            \"B-USERNAME\": \"hotpink\",\n",
    "            \"I-USERNAME\": \"lightpink\",\n",
    "            \"B-ID_NUM\": \"purple\",\n",
    "            \"I-ID_NUM\": \"rebeccapurple\",\n",
    "            \"B-PHONE_NUM\": \"red\",\n",
    "            \"I-PHONE_NUM\": \"salmon\",\n",
    "            \"B-URL_PERSONAL\": \"silver\",\n",
    "            \"I-URL_PERSONAL\": \"lightgray\",\n",
    "            \"B-STREET_ADDRESS\": \"brown\",\n",
    "            \"I-STREET_ADDRESS\": \"chocolate\",\n",
    "        }\n",
    "    }\n",
    "\n",
    "\n",
    "def visualize_ents(tokens, trailing_whitespace, ents):\n",
    "    doc = Doc(word_tokenizer.vocab, words=tokens, spaces=trailing_whitespace, ents=ents)\n",
    "    html = displacy.render(doc, style=\"ent\", jupyter=False, options=options)\n",
    "    return html"
   ]
  },
  {
   "cell_type": "code",
   "execution_count": 43,
   "metadata": {},
   "outputs": [
    {
     "data": {
      "text/html": [
       "<div>\n",
       "<style scoped>\n",
       "    .dataframe tbody tr th:only-of-type {\n",
       "        vertical-align: middle;\n",
       "    }\n",
       "\n",
       "    .dataframe tbody tr th {\n",
       "        vertical-align: top;\n",
       "    }\n",
       "\n",
       "    .dataframe thead th {\n",
       "        text-align: right;\n",
       "    }\n",
       "</style>\n",
       "<table border=\"1\" class=\"dataframe\">\n",
       "  <thead>\n",
       "    <tr style=\"text-align: right;\">\n",
       "      <th></th>\n",
       "      <th>document</th>\n",
       "      <th>full_text</th>\n",
       "      <th>tokens</th>\n",
       "      <th>trailing_whitespace</th>\n",
       "      <th>labels</th>\n",
       "    </tr>\n",
       "  </thead>\n",
       "  <tbody>\n",
       "    <tr>\n",
       "      <th>0</th>\n",
       "      <td>2</td>\n",
       "      <td>Essay\\n\\nMy Journey Through the World of Story...</td>\n",
       "      <td>[Essay, \\n\\n, My, Journey, Through, the, World...</td>\n",
       "      <td>[False, False, True, True, True, True, True, T...</td>\n",
       "      <td>[O, O, O, O, O, O, O, O, O, O, O, O, O, O, O, ...</td>\n",
       "    </tr>\n",
       "    <tr>\n",
       "      <th>1</th>\n",
       "      <td>3</td>\n",
       "      <td>Essay\\n\\nTitle: The Journey of Self-Discovery:...</td>\n",
       "      <td>[Essay, \\n\\n, Title, :, The, Journey, of, Self...</td>\n",
       "      <td>[False, False, False, True, True, True, True, ...</td>\n",
       "      <td>[O, O, O, O, O, O, O, O, O, O, O, O, O, O, O, ...</td>\n",
       "    </tr>\n",
       "    <tr>\n",
       "      <th>2</th>\n",
       "      <td>4</td>\n",
       "      <td>Essay\\n\\nTitle: The Art of Storytelling: A Per...</td>\n",
       "      <td>[Essay, \\n\\n, Title, :, The, Art, of, Storytel...</td>\n",
       "      <td>[False, False, False, True, True, True, True, ...</td>\n",
       "      <td>[O, O, O, O, O, O, O, O, O, O, O, O, O, O, O, ...</td>\n",
       "    </tr>\n",
       "    <tr>\n",
       "      <th>3</th>\n",
       "      <td>5</td>\n",
       "      <td>Title: Essay\\n\\nAs a final assignment for my s...</td>\n",
       "      <td>[Title, :, Essay, \\n\\n, As, a, final, assignme...</td>\n",
       "      <td>[False, True, False, False, True, True, True, ...</td>\n",
       "      <td>[O, O, O, O, O, O, O, O, O, O, O, O, O, O, O, ...</td>\n",
       "    </tr>\n",
       "    <tr>\n",
       "      <th>4</th>\n",
       "      <td>6</td>\n",
       "      <td>Title: Essay\\n\\nAs a storytelling enthusiast, ...</td>\n",
       "      <td>[Title, :, Essay, \\n\\n, As, a, storytelling, e...</td>\n",
       "      <td>[False, True, False, False, True, True, True, ...</td>\n",
       "      <td>[O, O, O, O, O, O, O, O, O, O, O, O, O, O, O, ...</td>\n",
       "    </tr>\n",
       "  </tbody>\n",
       "</table>\n",
       "</div>"
      ],
      "text/plain": [
       "   document                                          full_text  \\\n",
       "0         2  Essay\\n\\nMy Journey Through the World of Story...   \n",
       "1         3  Essay\\n\\nTitle: The Journey of Self-Discovery:...   \n",
       "2         4  Essay\\n\\nTitle: The Art of Storytelling: A Per...   \n",
       "3         5  Title: Essay\\n\\nAs a final assignment for my s...   \n",
       "4         6  Title: Essay\\n\\nAs a storytelling enthusiast, ...   \n",
       "\n",
       "                                              tokens  \\\n",
       "0  [Essay, \\n\\n, My, Journey, Through, the, World...   \n",
       "1  [Essay, \\n\\n, Title, :, The, Journey, of, Self...   \n",
       "2  [Essay, \\n\\n, Title, :, The, Art, of, Storytel...   \n",
       "3  [Title, :, Essay, \\n\\n, As, a, final, assignme...   \n",
       "4  [Title, :, Essay, \\n\\n, As, a, storytelling, e...   \n",
       "\n",
       "                                 trailing_whitespace  \\\n",
       "0  [False, False, True, True, True, True, True, T...   \n",
       "1  [False, False, False, True, True, True, True, ...   \n",
       "2  [False, False, False, True, True, True, True, ...   \n",
       "3  [False, True, False, False, True, True, True, ...   \n",
       "4  [False, True, False, False, True, True, True, ...   \n",
       "\n",
       "                                              labels  \n",
       "0  [O, O, O, O, O, O, O, O, O, O, O, O, O, O, O, ...  \n",
       "1  [O, O, O, O, O, O, O, O, O, O, O, O, O, O, O, ...  \n",
       "2  [O, O, O, O, O, O, O, O, O, O, O, O, O, O, O, ...  \n",
       "3  [O, O, O, O, O, O, O, O, O, O, O, O, O, O, O, ...  \n",
       "4  [O, O, O, O, O, O, O, O, O, O, O, O, O, O, O, ...  "
      ]
     },
     "execution_count": 43,
     "metadata": {},
     "output_type": "execute_result"
    }
   ],
   "source": [
    "import pandas as pd\n",
    "df = pd.read_json(\"/home/savkin/2024/PII_Data_Detection/pii/labelled_generated_dataset.json\").reset_index(drop=True)\n",
    "df.head()"
   ]
  },
  {
   "cell_type": "code",
   "execution_count": 42,
   "metadata": {},
   "outputs": [
    {
     "data": {
      "text/html": [
       "<div class=\"entities\" style=\"line-height: 2.5; direction: ltr\">**Essay**<br><br>Title: The Importance of Critical Thinking in Today's World<br><br>As \n",
       "<mark class=\"entity\" style=\"background: #ddd; padding: 0.45em 0.6em; margin: 0 0.25em; line-height: 1; border-radius: 0.35em;\">\n",
       "    Ashley Farrell\n",
       "    <span style=\"font-size: 0.8em; font-weight: bold; line-height: 1; border-radius: 0.35em; vertical-align: middle; margin-left: 0.5rem\">NAME_STUDENT</span>\n",
       "</mark>\n",
       ", a dedicated student and critical thinker, I believe that the ability to think critically is essential for success in today's rapidly changing world. This essay aims to discuss the significance of critical thinking, its applications, and the role it plays in shaping our lives and decisions.<br><br>Critical thinking is the ability to analyze, evaluate, and synthesize information to make well-informed decisions and solve complex problems. In a world where information is readily available and constantly evolving, it is more important than ever to develop these skills. As someone who values learning and personal growth, I have taken the opportunity to hone my critical thinking abilities through various courses and experiences.<br><br>My contact information, including my email (\n",
       "<mark class=\"entity\" style=\"background: #ddd; padding: 0.45em 0.6em; margin: 0 0.25em; line-height: 1; border-radius: 0.35em;\">\n",
       "    obrown@example.com\n",
       "    <span style=\"font-size: 0.8em; font-weight: bold; line-height: 1; border-radius: 0.35em; vertical-align: middle; margin-left: 0.5rem\">EMAIL</span>\n",
       "</mark>\n",
       "), address (\n",
       "<mark class=\"entity\" style=\"background: #ddd; padding: 0.45em 0.6em; margin: 0 0.25em; line-height: 1; border-radius: 0.35em;\">\n",
       "    5141 Doris Isle Apt. 860 South Sherry, FM 78885\n",
       "    <span style=\"font-size: 0.8em; font-weight: bold; line-height: 1; border-radius: 0.35em; vertical-align: middle; margin-left: 0.5rem\">STREET_ADDRESS</span>\n",
       "</mark>\n",
       "), phone number (\n",
       "<mark class=\"entity\" style=\"background: #ddd; padding: 0.45em 0.6em; margin: 0 0.25em; line-height: 1; border-radius: 0.35em;\">\n",
       "    001-427-782-0651x31136\n",
       "    <span style=\"font-size: 0.8em; font-weight: bold; line-height: 1; border-radius: 0.35em; vertical-align: middle; margin-left: 0.5rem\">PHONE_NUM</span>\n",
       "</mark>\n",
       "), and social media presence (Twitter: @ashleyfarrell327, User ID: \n",
       "<mark class=\"entity\" style=\"background: #ddd; padding: 0.45em 0.6em; margin: 0 0.25em; line-height: 1; border-radius: 0.35em;\">\n",
       "    729007168AtlEoTZdAJipnPCf\n",
       "    <span style=\"font-size: 0.8em; font-weight: bold; line-height: 1; border-radius: 0.35em; vertical-align: middle; margin-left: 0.5rem\">ID_NUM</span>\n",
       "</mark>\n",
       "), can be used to reach out to me for further discussion on this topic.<br><br>Critical thinking is applicable in various aspects of life, from personal decision-making to professional success. For instance, in my career as a manager, I have found that being able to evaluate situations objectively and make sound decisions has been crucial to my team's success. This has led me to appreciate the importance of fostering a culture of critical thinking within my organization.<br><br>In addition to its professional applications, critical thinking plays a vital role in our personal lives. As individuals, we are constantly faced with decisions that impact our well-being, relationships, and overall happiness. By developing our critical thinking abilities, we can make more informed choices and lead more fulfilling lives.<br><br>Furthermore, critical thinking is essential for navigating the complexities of the modern world. With the rise of misinformation and the rapid spread of ideas, it is more important than ever to be able to discern fact from fiction and develop a well-reasoned perspective on the issues that affect us.<br><br>In conclusion, critical thinking is an indispensable skill in today's world. By honing our abilities to analyze, evaluate, and synthesize information, we can make better decisions, both personally and professionally. As a dedicated learner and critical thinker, I am committed to continuing my personal growth and encouraging others to do the same.<br><br>You can reach me via email at \n",
       "<mark class=\"entity\" style=\"background: #ddd; padding: 0.45em 0.6em; margin: 0 0.25em; line-height: 1; border-radius: 0.35em;\">\n",
       "    obrown@example.com\n",
       "    <span style=\"font-size: 0.8em; font-weight: bold; line-height: 1; border-radius: 0.35em; vertical-align: middle; margin-left: 0.5rem\">EMAIL</span>\n",
       "</mark>\n",
       ", or through my social media accounts at Twitter: @ashleyfarrell327 (User ID: \n",
       "<mark class=\"entity\" style=\"background: #ddd; padding: 0.45em 0.6em; margin: 0 0.25em; line-height: 1; border-radius: 0.35em;\">\n",
       "    729007168AtlEoTZdAJipnPCf\n",
       "    <span style=\"font-size: 0.8em; font-weight: bold; line-height: 1; border-radius: 0.35em; vertical-align: middle; margin-left: 0.5rem\">ID_NUM</span>\n",
       "</mark>\n",
       ") to discuss this topic further or share your thoughts on the importance of cri</div>"
      ],
      "text/plain": [
       "<IPython.core.display.HTML object>"
      ]
     },
     "metadata": {},
     "output_type": "display_data"
    }
   ],
   "source": [
    "row = df.iloc[75]\n",
    "html = visualize_ents(row[\"tokens\"], row[\"trailing_whitespace\"], row[\"labels\"])\n",
    "display(HTML(html))"
   ]
  }
 ],
 "metadata": {
  "kernelspec": {
   "display_name": "env",
   "language": "python",
   "name": "python3"
  },
  "language_info": {
   "codemirror_mode": {
    "name": "ipython",
    "version": 3
   },
   "file_extension": ".py",
   "mimetype": "text/x-python",
   "name": "python",
   "nbconvert_exporter": "python",
   "pygments_lexer": "ipython3",
   "version": "3.8.10"
  }
 },
 "nbformat": 4,
 "nbformat_minor": 2
}
