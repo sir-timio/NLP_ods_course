{
 "cells": [
  {
   "cell_type": "code",
   "execution_count": 1,
   "id": "51bd537f",
   "metadata": {
    "id": "cfba0c61",
    "papermill": {
     "duration": 19.323073,
     "end_time": "2024-03-02T16:44:45.638075",
     "exception": false,
     "start_time": "2024-03-02T16:44:26.315002",
     "status": "completed"
    },
    "tags": []
   },
   "outputs": [
    {
     "ename": "ModuleNotFoundError",
     "evalue": "No module named 'text_unidecode'",
     "output_type": "error",
     "traceback": [
      "\u001b[0;31m---------------------------------------------------------------------------\u001b[0m",
      "\u001b[0;31mModuleNotFoundError\u001b[0m                       Traceback (most recent call last)",
      "Cell \u001b[0;32mIn[1], line 10\u001b[0m\n\u001b[1;32m      7\u001b[0m \u001b[38;5;28;01mimport\u001b[39;00m \u001b[38;5;21;01mpandas\u001b[39;00m \u001b[38;5;28;01mas\u001b[39;00m \u001b[38;5;21;01mpd\u001b[39;00m \n\u001b[1;32m      8\u001b[0m \u001b[38;5;28;01mfrom\u001b[39;00m \u001b[38;5;21;01mitertools\u001b[39;00m \u001b[38;5;28;01mimport\u001b[39;00m chain\n\u001b[0;32m---> 10\u001b[0m \u001b[38;5;28;01mfrom\u001b[39;00m \u001b[38;5;21;01mtext_unidecode\u001b[39;00m \u001b[38;5;28;01mimport\u001b[39;00m unidecode\n\u001b[1;32m     11\u001b[0m \u001b[38;5;28;01mfrom\u001b[39;00m \u001b[38;5;21;01mtyping\u001b[39;00m \u001b[38;5;28;01mimport\u001b[39;00m Dict, List, Tuple\n\u001b[1;32m     12\u001b[0m \u001b[38;5;28;01mimport\u001b[39;00m \u001b[38;5;21;01mcodecs\u001b[39;00m\n",
      "\u001b[0;31mModuleNotFoundError\u001b[0m: No module named 'text_unidecode'"
     ]
    }
   ],
   "source": [
    "import os\n",
    "import gc\n",
    "from tqdm.auto import tqdm\n",
    "import json\n",
    "\n",
    "import numpy as np \n",
    "import pandas as pd \n",
    "from itertools import chain\n",
    "\n",
    "from text_unidecode import unidecode\n",
    "from typing import Dict, List, Tuple\n",
    "import codecs\n",
    "\n",
    "from datasets import concatenate_datasets,load_dataset,load_from_disk\n",
    "from sklearn.metrics import log_loss\n",
    "from transformers import AutoModel, AutoTokenizer, AdamW, DataCollatorWithPadding\n",
    "\n",
    "import torch \n",
    "import torch.nn as nn\n",
    "import torch.nn.functional as F\n",
    "from torch.utils.data import Dataset, DataLoader\n",
    "\n",
    "import pytorch_lightning as pl\n",
    "from pytorch_lightning import Trainer, seed_everything\n",
    "from pytorch_lightning.callbacks import ModelCheckpoint, EarlyStopping"
   ]
  },
  {
   "cell_type": "code",
   "execution_count": 3,
   "id": "8163f6aa",
   "metadata": {
    "execution": {
     "iopub.execute_input": "2024-03-02T16:44:45.668725Z",
     "iopub.status.busy": "2024-03-02T16:44:45.668016Z",
     "iopub.status.idle": "2024-03-02T16:44:49.602419Z",
     "shell.execute_reply": "2024-03-02T16:44:49.601219Z"
    },
    "id": "euO03XTtIbdG",
    "papermill": {
     "duration": 3.951989,
     "end_time": "2024-03-02T16:44:49.604920",
     "exception": false,
     "start_time": "2024-03-02T16:44:45.652931",
     "status": "completed"
    },
    "tags": []
   },
   "outputs": [],
   "source": [
    "from datasets import Dataset, load_from_disk\n",
    "import pickle\n",
    "import re\n",
    "from transformers import TrainingArguments, AutoConfig, AutoModelForTokenClassification, DataCollatorForTokenClassification\n",
    "from transformers import get_polynomial_decay_schedule_with_warmup,get_cosine_schedule_with_warmup,get_linear_schedule_with_warmup\n",
    "from transformers.tokenization_utils_base import BatchEncoding, PreTrainedTokenizerBase\n",
    "from transformers import DataCollatorWithPadding,DataCollatorForTokenClassification\n",
    "\n",
    "from copy import deepcopy\n",
    "\n",
    "from transformers.models.llama.modeling_llama import *\n",
    "from transformers.modeling_outputs import TokenClassifierOutput\n",
    "import sys\n",
    "!cp -r /kaggle/input/peft-main /kaggle/working\n",
    "\n"
   ]
  },
  {
   "cell_type": "code",
   "execution_count": 4,
   "id": "7e0531d9",
   "metadata": {
    "execution": {
     "iopub.execute_input": "2024-03-02T16:44:49.636181Z",
     "iopub.status.busy": "2024-03-02T16:44:49.635813Z",
     "iopub.status.idle": "2024-03-02T16:44:49.759143Z",
     "shell.execute_reply": "2024-03-02T16:44:49.758377Z"
    },
    "papermill": {
     "duration": 0.141535,
     "end_time": "2024-03-02T16:44:49.761422",
     "exception": false,
     "start_time": "2024-03-02T16:44:49.619887",
     "status": "completed"
    },
    "tags": []
   },
   "outputs": [],
   "source": [
    "sys.path.append('/kaggle/working/peft-main/src')\n",
    "from peft import get_peft_model, LoraConfig, TaskType"
   ]
  },
  {
   "cell_type": "markdown",
   "id": "a09c32e7",
   "metadata": {
    "id": "9f6c9a20",
    "papermill": {
     "duration": 0.014052,
     "end_time": "2024-03-02T16:44:49.790357",
     "exception": false,
     "start_time": "2024-03-02T16:44:49.776305",
     "status": "completed"
    },
    "tags": []
   },
   "source": [
    "# ⚙️ Config"
   ]
  },
  {
   "cell_type": "markdown",
   "id": "e12c89f4",
   "metadata": {
    "papermill": {
     "duration": 0.014313,
     "end_time": "2024-03-02T16:44:49.818998",
     "exception": false,
     "start_time": "2024-03-02T16:44:49.804685",
     "status": "completed"
    },
    "tags": []
   },
   "source": [
    "Notebook was ran on my local Instance, you will have to change the paths for Kaggle accordingly. "
   ]
  },
  {
   "cell_type": "code",
   "execution_count": 5,
   "id": "578f68fa",
   "metadata": {
    "execution": {
     "iopub.execute_input": "2024-03-02T16:44:49.848679Z",
     "iopub.status.busy": "2024-03-02T16:44:49.848369Z",
     "iopub.status.idle": "2024-03-02T16:44:49.903174Z",
     "shell.execute_reply": "2024-03-02T16:44:49.902283Z"
    },
    "id": "a824cb8b",
    "outputId": "4e679198-2431-4060-86d2-fccce963ba3e",
    "papermill": {
     "duration": 0.071854,
     "end_time": "2024-03-02T16:44:49.905058",
     "exception": false,
     "start_time": "2024-03-02T16:44:49.833204",
     "status": "completed"
    },
    "tags": []
   },
   "outputs": [
    {
     "data": {
      "text/plain": [
       "69"
      ]
     },
     "execution_count": 5,
     "metadata": {},
     "output_type": "execute_result"
    }
   ],
   "source": [
    "class config:\n",
    "    device = torch.device('cuda' if torch.cuda.is_available() else 'cpu')\n",
    "    seed = 69\n",
    "    # dataset path \n",
    "    train_dataset_path = \"/kaggle/input/pii-detection-removal-from-educational-data/train.json\"\n",
    "    test_dataset_path = \"/kaggle/input/pii-detection-removal-from-educational-data/test.json\"\n",
    "    sample_submission_path = \"/home/nischay/PID/Data/sample_submission.csv\"\n",
    "       \n",
    "    save_dir=\"/kaggle/working/\"\n",
    "    #tokenizer params\n",
    "    downsample = 0.5\n",
    "    truncation = True \n",
    "    padding = False #'max_length'\n",
    "    max_length = 2536\n",
    "    doc_stride = 512\n",
    "    freeze_layers = 6\n",
    "    # model params\n",
    "    model_name = \"/kaggle/input/h2o-danube-1-8b-base\"\n",
    "    \n",
    "    target_cols = ['B-EMAIL', 'B-ID_NUM', 'B-NAME_STUDENT', 'B-PHONE_NUM', \n",
    "    'B-STREET_ADDRESS', 'B-URL_PERSONAL', 'B-USERNAME', 'I-ID_NUM', \n",
    "    'I-NAME_STUDENT', 'I-PHONE_NUM', 'I-STREET_ADDRESS', 'I-URL_PERSONAL','O']\n",
    "\n",
    "    load_from_disk = None\n",
    "    #training params\n",
    "    learning_rate = 1e-5\n",
    "    batch_size = 1\n",
    "    epochs = 4\n",
    "    NFOLDS = 4\n",
    "    trn_fold = 0\n",
    "    ckpt_path = '/kaggle/input/h2o-danube-18b-extv1-1400-cv955/last.ckpt'\n",
    "    exp_path = '/kaggle/input/h2o-danube-18b-extv1-1400-cv955'\n",
    "    \n",
    "seed_everything(config.seed)"
   ]
  },
  {
   "cell_type": "code",
   "execution_count": 6,
   "id": "7122fa00",
   "metadata": {
    "execution": {
     "iopub.execute_input": "2024-03-02T16:44:49.935485Z",
     "iopub.status.busy": "2024-03-02T16:44:49.935008Z",
     "iopub.status.idle": "2024-03-02T16:44:49.939252Z",
     "shell.execute_reply": "2024-03-02T16:44:49.938471Z"
    },
    "id": "B1s0DROkC5p_",
    "papermill": {
     "duration": 0.021472,
     "end_time": "2024-03-02T16:44:49.941101",
     "exception": false,
     "start_time": "2024-03-02T16:44:49.919629",
     "status": "completed"
    },
    "tags": []
   },
   "outputs": [],
   "source": [
    "if not os.path.exists(config.save_dir):\n",
    "  os.makedirs(config.save_dir)"
   ]
  },
  {
   "cell_type": "markdown",
   "id": "32710e97",
   "metadata": {
    "id": "8316b875",
    "papermill": {
     "duration": 0.014093,
     "end_time": "2024-03-02T16:44:49.969648",
     "exception": false,
     "start_time": "2024-03-02T16:44:49.955555",
     "status": "completed"
    },
    "tags": []
   },
   "source": [
    "# 📊 Preprocessing"
   ]
  },
  {
   "cell_type": "code",
   "execution_count": 7,
   "id": "072c2f33",
   "metadata": {
    "execution": {
     "iopub.execute_input": "2024-03-02T16:44:50.000099Z",
     "iopub.status.busy": "2024-03-02T16:44:49.999465Z",
     "iopub.status.idle": "2024-03-02T16:44:52.690473Z",
     "shell.execute_reply": "2024-03-02T16:44:52.689502Z"
    },
    "papermill": {
     "duration": 2.708579,
     "end_time": "2024-03-02T16:44:52.692619",
     "exception": false,
     "start_time": "2024-03-02T16:44:49.984040",
     "status": "completed"
    },
    "tags": []
   },
   "outputs": [
    {
     "name": "stdout",
     "output_type": "stream",
     "text": [
      "num_samples: 6807\n",
      "dict_keys(['document', 'full_text', 'tokens', 'trailing_whitespace', 'labels'])\n"
     ]
    }
   ],
   "source": [
    "data = json.load(open(config.train_dataset_path))\n",
    "test_data = json.load(open(config.test_dataset_path))\n",
    "\n",
    "print('num_samples:', len(data))\n",
    "print(data[0].keys())\n"
   ]
  },
  {
   "cell_type": "code",
   "execution_count": 8,
   "id": "57ee118b",
   "metadata": {
    "execution": {
     "iopub.execute_input": "2024-03-02T16:44:52.723571Z",
     "iopub.status.busy": "2024-03-02T16:44:52.723235Z",
     "iopub.status.idle": "2024-03-02T16:44:52.801590Z",
     "shell.execute_reply": "2024-03-02T16:44:52.800529Z"
    },
    "id": "9e209155",
    "papermill": {
     "duration": 0.095731,
     "end_time": "2024-03-02T16:44:52.803488",
     "exception": false,
     "start_time": "2024-03-02T16:44:52.707757",
     "status": "completed"
    },
    "tags": []
   },
   "outputs": [
    {
     "name": "stdout",
     "output_type": "stream",
     "text": [
      "{0: 'B-EMAIL', 1: 'B-ID_NUM', 2: 'B-NAME_STUDENT', 3: 'B-PHONE_NUM', 4: 'B-STREET_ADDRESS', 5: 'B-URL_PERSONAL', 6: 'B-USERNAME', 7: 'I-ID_NUM', 8: 'I-NAME_STUDENT', 9: 'I-PHONE_NUM', 10: 'I-STREET_ADDRESS', 11: 'I-URL_PERSONAL', 12: 'O'}\n"
     ]
    }
   ],
   "source": [
    "all_labels = sorted(list(set(chain(*[x[\"labels\"] for x in data]))))\n",
    "label2id = {l: i for i,l in enumerate(all_labels)}\n",
    "id2label = {v:k for k,v in label2id.items()}\n",
    "\n",
    "print(id2label)"
   ]
  },
  {
   "cell_type": "code",
   "execution_count": 9,
   "id": "baa141cb",
   "metadata": {
    "execution": {
     "iopub.execute_input": "2024-03-02T16:44:52.834506Z",
     "iopub.status.busy": "2024-03-02T16:44:52.834169Z",
     "iopub.status.idle": "2024-03-02T16:44:53.032937Z",
     "shell.execute_reply": "2024-03-02T16:44:53.032126Z"
    },
    "id": "VHFHbC_3D4zg",
    "outputId": "da6c707f-589d-4439-8d31-0e12f780455e",
    "papermill": {
     "duration": 0.216702,
     "end_time": "2024-03-02T16:44:53.035226",
     "exception": false,
     "start_time": "2024-03-02T16:44:52.818524",
     "status": "completed"
    },
    "tags": []
   },
   "outputs": [],
   "source": [
    "tokenizer = AutoTokenizer.from_pretrained(config.model_name)\n",
    "tokenizer.pad_token = tokenizer.eos_token"
   ]
  },
  {
   "cell_type": "code",
   "execution_count": 10,
   "id": "db39e604",
   "metadata": {
    "execution": {
     "iopub.execute_input": "2024-03-02T16:44:53.066021Z",
     "iopub.status.busy": "2024-03-02T16:44:53.065722Z",
     "iopub.status.idle": "2024-03-02T16:44:53.112717Z",
     "shell.execute_reply": "2024-03-02T16:44:53.111854Z"
    },
    "papermill": {
     "duration": 0.064406,
     "end_time": "2024-03-02T16:44:53.114579",
     "exception": false,
     "start_time": "2024-03-02T16:44:53.050173",
     "status": "completed"
    },
    "tags": []
   },
   "outputs": [
    {
     "data": {
      "text/html": [
       "<div>\n",
       "<style scoped>\n",
       "    .dataframe tbody tr th:only-of-type {\n",
       "        vertical-align: middle;\n",
       "    }\n",
       "\n",
       "    .dataframe tbody tr th {\n",
       "        vertical-align: top;\n",
       "    }\n",
       "\n",
       "    .dataframe thead th {\n",
       "        text-align: right;\n",
       "    }\n",
       "</style>\n",
       "<table border=\"1\" class=\"dataframe\">\n",
       "  <thead>\n",
       "    <tr style=\"text-align: right;\">\n",
       "      <th></th>\n",
       "      <th>document</th>\n",
       "      <th>full_text</th>\n",
       "      <th>tokens</th>\n",
       "      <th>trailing_whitespace</th>\n",
       "      <th>labels</th>\n",
       "    </tr>\n",
       "  </thead>\n",
       "  <tbody>\n",
       "    <tr>\n",
       "      <th>0</th>\n",
       "      <td>7</td>\n",
       "      <td>Design Thinking for innovation reflexion-Avril...</td>\n",
       "      <td>[Design, Thinking, for, innovation, reflexion,...</td>\n",
       "      <td>[True, True, True, True, False, False, True, F...</td>\n",
       "      <td>[O, O, O, O, O, O, O, O, O, B-NAME_STUDENT, I-...</td>\n",
       "    </tr>\n",
       "    <tr>\n",
       "      <th>1</th>\n",
       "      <td>10</td>\n",
       "      <td>Diego Estrada\\n\\nDesign Thinking Assignment\\n\\...</td>\n",
       "      <td>[Diego, Estrada, \\n\\n, Design, Thinking, Assig...</td>\n",
       "      <td>[True, False, False, True, True, False, False,...</td>\n",
       "      <td>[B-NAME_STUDENT, I-NAME_STUDENT, O, O, O, O, O...</td>\n",
       "    </tr>\n",
       "    <tr>\n",
       "      <th>2</th>\n",
       "      <td>16</td>\n",
       "      <td>Reporting process\\n\\nby Gilberto Gamboa\\n\\nCha...</td>\n",
       "      <td>[Reporting, process, \\n\\n, by, Gilberto, Gambo...</td>\n",
       "      <td>[True, False, False, True, True, False, False,...</td>\n",
       "      <td>[O, O, O, O, B-NAME_STUDENT, I-NAME_STUDENT, O...</td>\n",
       "    </tr>\n",
       "    <tr>\n",
       "      <th>3</th>\n",
       "      <td>20</td>\n",
       "      <td>Design Thinking for Innovation\\n\\nSindy Samaca...</td>\n",
       "      <td>[Design, Thinking, for, Innovation, \\n\\n, Sind...</td>\n",
       "      <td>[True, True, True, False, False, True, False, ...</td>\n",
       "      <td>[O, O, O, O, O, B-NAME_STUDENT, I-NAME_STUDENT...</td>\n",
       "    </tr>\n",
       "    <tr>\n",
       "      <th>4</th>\n",
       "      <td>56</td>\n",
       "      <td>Assignment:  Visualization Reflection  Submitt...</td>\n",
       "      <td>[Assignment, :,   , Visualization,  , Reflecti...</td>\n",
       "      <td>[False, False, False, False, False, False, Fal...</td>\n",
       "      <td>[O, O, O, O, O, O, O, O, O, O, O, O, B-NAME_ST...</td>\n",
       "    </tr>\n",
       "  </tbody>\n",
       "</table>\n",
       "</div>"
      ],
      "text/plain": [
       "   document                                          full_text  \\\n",
       "0         7  Design Thinking for innovation reflexion-Avril...   \n",
       "1        10  Diego Estrada\\n\\nDesign Thinking Assignment\\n\\...   \n",
       "2        16  Reporting process\\n\\nby Gilberto Gamboa\\n\\nCha...   \n",
       "3        20  Design Thinking for Innovation\\n\\nSindy Samaca...   \n",
       "4        56  Assignment:  Visualization Reflection  Submitt...   \n",
       "\n",
       "                                              tokens  \\\n",
       "0  [Design, Thinking, for, innovation, reflexion,...   \n",
       "1  [Diego, Estrada, \\n\\n, Design, Thinking, Assig...   \n",
       "2  [Reporting, process, \\n\\n, by, Gilberto, Gambo...   \n",
       "3  [Design, Thinking, for, Innovation, \\n\\n, Sind...   \n",
       "4  [Assignment, :,   , Visualization,  , Reflecti...   \n",
       "\n",
       "                                 trailing_whitespace  \\\n",
       "0  [True, True, True, True, False, False, True, F...   \n",
       "1  [True, False, False, True, True, False, False,...   \n",
       "2  [True, False, False, True, True, False, False,...   \n",
       "3  [True, True, True, False, False, True, False, ...   \n",
       "4  [False, False, False, False, False, False, Fal...   \n",
       "\n",
       "                                              labels  \n",
       "0  [O, O, O, O, O, O, O, O, O, B-NAME_STUDENT, I-...  \n",
       "1  [B-NAME_STUDENT, I-NAME_STUDENT, O, O, O, O, O...  \n",
       "2  [O, O, O, O, B-NAME_STUDENT, I-NAME_STUDENT, O...  \n",
       "3  [O, O, O, O, O, B-NAME_STUDENT, I-NAME_STUDENT...  \n",
       "4  [O, O, O, O, O, O, O, O, O, O, O, O, B-NAME_ST...  "
      ]
     },
     "execution_count": 10,
     "metadata": {},
     "output_type": "execute_result"
    }
   ],
   "source": [
    "df_train = pd.DataFrame(data)\n",
    "df_train.head(5)"
   ]
  },
  {
   "cell_type": "code",
   "execution_count": 11,
   "id": "38a7d873",
   "metadata": {
    "execution": {
     "iopub.execute_input": "2024-03-02T16:44:53.145790Z",
     "iopub.status.busy": "2024-03-02T16:44:53.145529Z",
     "iopub.status.idle": "2024-03-02T16:44:53.168342Z",
     "shell.execute_reply": "2024-03-02T16:44:53.167425Z"
    },
    "papermill": {
     "duration": 0.040541,
     "end_time": "2024-03-02T16:44:53.170408",
     "exception": false,
     "start_time": "2024-03-02T16:44:53.129867",
     "status": "completed"
    },
    "tags": []
   },
   "outputs": [
    {
     "data": {
      "text/html": [
       "<div>\n",
       "<style scoped>\n",
       "    .dataframe tbody tr th:only-of-type {\n",
       "        vertical-align: middle;\n",
       "    }\n",
       "\n",
       "    .dataframe tbody tr th {\n",
       "        vertical-align: top;\n",
       "    }\n",
       "\n",
       "    .dataframe thead th {\n",
       "        text-align: right;\n",
       "    }\n",
       "</style>\n",
       "<table border=\"1\" class=\"dataframe\">\n",
       "  <thead>\n",
       "    <tr style=\"text-align: right;\">\n",
       "      <th></th>\n",
       "      <th>document</th>\n",
       "      <th>full_text</th>\n",
       "      <th>tokens</th>\n",
       "      <th>trailing_whitespace</th>\n",
       "      <th>labels</th>\n",
       "      <th>fold</th>\n",
       "    </tr>\n",
       "  </thead>\n",
       "  <tbody>\n",
       "    <tr>\n",
       "      <th>0</th>\n",
       "      <td>7</td>\n",
       "      <td>Design Thinking for innovation reflexion-Avril...</td>\n",
       "      <td>[Design, Thinking, for, innovation, reflexion,...</td>\n",
       "      <td>[True, True, True, True, False, False, True, F...</td>\n",
       "      <td>[O, O, O, O, O, O, O, O, O, B-NAME_STUDENT, I-...</td>\n",
       "      <td>3</td>\n",
       "    </tr>\n",
       "    <tr>\n",
       "      <th>1</th>\n",
       "      <td>10</td>\n",
       "      <td>Diego Estrada\\n\\nDesign Thinking Assignment\\n\\...</td>\n",
       "      <td>[Diego, Estrada, \\n\\n, Design, Thinking, Assig...</td>\n",
       "      <td>[True, False, False, True, True, False, False,...</td>\n",
       "      <td>[B-NAME_STUDENT, I-NAME_STUDENT, O, O, O, O, O...</td>\n",
       "      <td>2</td>\n",
       "    </tr>\n",
       "    <tr>\n",
       "      <th>2</th>\n",
       "      <td>16</td>\n",
       "      <td>Reporting process\\n\\nby Gilberto Gamboa\\n\\nCha...</td>\n",
       "      <td>[Reporting, process, \\n\\n, by, Gilberto, Gambo...</td>\n",
       "      <td>[True, False, False, True, True, False, False,...</td>\n",
       "      <td>[O, O, O, O, B-NAME_STUDENT, I-NAME_STUDENT, O...</td>\n",
       "      <td>0</td>\n",
       "    </tr>\n",
       "  </tbody>\n",
       "</table>\n",
       "</div>"
      ],
      "text/plain": [
       "   document                                          full_text  \\\n",
       "0         7  Design Thinking for innovation reflexion-Avril...   \n",
       "1        10  Diego Estrada\\n\\nDesign Thinking Assignment\\n\\...   \n",
       "2        16  Reporting process\\n\\nby Gilberto Gamboa\\n\\nCha...   \n",
       "\n",
       "                                              tokens  \\\n",
       "0  [Design, Thinking, for, innovation, reflexion,...   \n",
       "1  [Diego, Estrada, \\n\\n, Design, Thinking, Assig...   \n",
       "2  [Reporting, process, \\n\\n, by, Gilberto, Gambo...   \n",
       "\n",
       "                                 trailing_whitespace  \\\n",
       "0  [True, True, True, True, False, False, True, F...   \n",
       "1  [True, False, False, True, True, False, False,...   \n",
       "2  [True, False, False, True, True, False, False,...   \n",
       "\n",
       "                                              labels  fold  \n",
       "0  [O, O, O, O, O, O, O, O, O, B-NAME_STUDENT, I-...     3  \n",
       "1  [B-NAME_STUDENT, I-NAME_STUDENT, O, O, O, O, O...     2  \n",
       "2  [O, O, O, O, B-NAME_STUDENT, I-NAME_STUDENT, O...     0  "
      ]
     },
     "execution_count": 11,
     "metadata": {},
     "output_type": "execute_result"
    }
   ],
   "source": [
    "df_train['fold'] = df_train['document'] % 4\n",
    "df_train.head(3)"
   ]
  },
  {
   "cell_type": "code",
   "execution_count": 12,
   "id": "689f34c3",
   "metadata": {
    "execution": {
     "iopub.execute_input": "2024-03-02T16:44:53.205499Z",
     "iopub.status.busy": "2024-03-02T16:44:53.204818Z",
     "iopub.status.idle": "2024-03-02T16:44:53.223576Z",
     "shell.execute_reply": "2024-03-02T16:44:53.222387Z"
    },
    "papermill": {
     "duration": 0.039503,
     "end_time": "2024-03-02T16:44:53.226429",
     "exception": false,
     "start_time": "2024-03-02T16:44:53.186926",
     "status": "completed"
    },
    "tags": []
   },
   "outputs": [
    {
     "data": {
      "text/html": [
       "<div>\n",
       "<style scoped>\n",
       "    .dataframe tbody tr th:only-of-type {\n",
       "        vertical-align: middle;\n",
       "    }\n",
       "\n",
       "    .dataframe tbody tr th {\n",
       "        vertical-align: top;\n",
       "    }\n",
       "\n",
       "    .dataframe thead th {\n",
       "        text-align: right;\n",
       "    }\n",
       "</style>\n",
       "<table border=\"1\" class=\"dataframe\">\n",
       "  <thead>\n",
       "    <tr style=\"text-align: right;\">\n",
       "      <th></th>\n",
       "      <th>document</th>\n",
       "      <th>full_text</th>\n",
       "      <th>tokens</th>\n",
       "      <th>trailing_whitespace</th>\n",
       "    </tr>\n",
       "  </thead>\n",
       "  <tbody>\n",
       "    <tr>\n",
       "      <th>0</th>\n",
       "      <td>7</td>\n",
       "      <td>Design Thinking for innovation reflexion-Avril...</td>\n",
       "      <td>[Design, Thinking, for, innovation, reflexion,...</td>\n",
       "      <td>[True, True, True, True, False, False, True, F...</td>\n",
       "    </tr>\n",
       "    <tr>\n",
       "      <th>1</th>\n",
       "      <td>10</td>\n",
       "      <td>Diego Estrada\\n\\nDesign Thinking Assignment\\n\\...</td>\n",
       "      <td>[Diego, Estrada, \\n\\n, Design, Thinking, Assig...</td>\n",
       "      <td>[True, False, False, True, True, False, False,...</td>\n",
       "    </tr>\n",
       "    <tr>\n",
       "      <th>2</th>\n",
       "      <td>16</td>\n",
       "      <td>Reporting process\\n\\nby Gilberto Gamboa\\n\\nCha...</td>\n",
       "      <td>[Reporting, process, \\n\\n, by, Gilberto, Gambo...</td>\n",
       "      <td>[True, False, False, True, True, False, False,...</td>\n",
       "    </tr>\n",
       "  </tbody>\n",
       "</table>\n",
       "</div>"
      ],
      "text/plain": [
       "   document                                          full_text  \\\n",
       "0         7  Design Thinking for innovation reflexion-Avril...   \n",
       "1        10  Diego Estrada\\n\\nDesign Thinking Assignment\\n\\...   \n",
       "2        16  Reporting process\\n\\nby Gilberto Gamboa\\n\\nCha...   \n",
       "\n",
       "                                              tokens  \\\n",
       "0  [Design, Thinking, for, innovation, reflexion,...   \n",
       "1  [Diego, Estrada, \\n\\n, Design, Thinking, Assig...   \n",
       "2  [Reporting, process, \\n\\n, by, Gilberto, Gambo...   \n",
       "\n",
       "                                 trailing_whitespace  \n",
       "0  [True, True, True, True, False, False, True, F...  \n",
       "1  [True, False, False, True, True, False, False,...  \n",
       "2  [True, False, False, True, True, False, False,...  "
      ]
     },
     "execution_count": 12,
     "metadata": {},
     "output_type": "execute_result"
    }
   ],
   "source": [
    "df_test = pd.DataFrame(test_data)\n",
    "# df_test = df_train[df_train['fold']==config.trn_fold].reset_index(drop=True)\n",
    "df_test.head(3)"
   ]
  },
  {
   "cell_type": "code",
   "execution_count": 13,
   "id": "0d21db92",
   "metadata": {
    "execution": {
     "iopub.execute_input": "2024-03-02T16:44:53.261978Z",
     "iopub.status.busy": "2024-03-02T16:44:53.261692Z",
     "iopub.status.idle": "2024-03-02T16:44:53.268293Z",
     "shell.execute_reply": "2024-03-02T16:44:53.267459Z"
    },
    "papermill": {
     "duration": 0.024893,
     "end_time": "2024-03-02T16:44:53.270276",
     "exception": false,
     "start_time": "2024-03-02T16:44:53.245383",
     "status": "completed"
    },
    "tags": []
   },
   "outputs": [],
   "source": [
    "def tokenize_row(example):\n",
    "    text = []\n",
    "    token_map = []\n",
    "    \n",
    "    idx = 0\n",
    "    \n",
    "    for t, ws in zip(example[\"tokens\"], example[\"trailing_whitespace\"]):\n",
    "        text.append(t)\n",
    "        token_map.extend([idx]*len(t))\n",
    "        if ws:\n",
    "            text.append(\" \")\n",
    "            token_map.append(-1)\n",
    "            \n",
    "        idx += 1\n",
    "        \n",
    "    tokenized = tokenizer(\"\".join(text), return_offsets_mapping=True, truncation=config.truncation, max_length=config.max_length)\n",
    "    \n",
    "    return {\n",
    "        \"input_ids\": tokenized.input_ids,\n",
    "        \"attention_mask\": tokenized.attention_mask,\n",
    "        \"offset_mapping\": tokenized.offset_mapping,\n",
    "        \"token_map\": token_map,}"
   ]
  },
  {
   "cell_type": "code",
   "execution_count": 14,
   "id": "a9f6496d",
   "metadata": {
    "execution": {
     "iopub.execute_input": "2024-03-02T16:44:53.306391Z",
     "iopub.status.busy": "2024-03-02T16:44:53.306064Z",
     "iopub.status.idle": "2024-03-02T16:44:53.329199Z",
     "shell.execute_reply": "2024-03-02T16:44:53.328145Z"
    },
    "id": "51cHvcH8Q_iT",
    "outputId": "02b5c245-b973-4fe5-8eff-677d3b783b0f",
    "papermill": {
     "duration": 0.045896,
     "end_time": "2024-03-02T16:44:53.331486",
     "exception": false,
     "start_time": "2024-03-02T16:44:53.285590",
     "status": "completed"
    },
    "tags": []
   },
   "outputs": [
    {
     "data": {
      "text/html": [
       "<div>\n",
       "<style scoped>\n",
       "    .dataframe tbody tr th:only-of-type {\n",
       "        vertical-align: middle;\n",
       "    }\n",
       "\n",
       "    .dataframe tbody tr th {\n",
       "        vertical-align: top;\n",
       "    }\n",
       "\n",
       "    .dataframe thead th {\n",
       "        text-align: right;\n",
       "    }\n",
       "</style>\n",
       "<table border=\"1\" class=\"dataframe\">\n",
       "  <thead>\n",
       "    <tr style=\"text-align: right;\">\n",
       "      <th></th>\n",
       "      <th>document</th>\n",
       "    </tr>\n",
       "  </thead>\n",
       "  <tbody>\n",
       "    <tr>\n",
       "      <th>count</th>\n",
       "      <td>10.000000</td>\n",
       "    </tr>\n",
       "    <tr>\n",
       "      <th>mean</th>\n",
       "      <td>62.700000</td>\n",
       "    </tr>\n",
       "    <tr>\n",
       "      <th>std</th>\n",
       "      <td>46.142412</td>\n",
       "    </tr>\n",
       "    <tr>\n",
       "      <th>min</th>\n",
       "      <td>7.000000</td>\n",
       "    </tr>\n",
       "    <tr>\n",
       "      <th>25%</th>\n",
       "      <td>17.000000</td>\n",
       "    </tr>\n",
       "    <tr>\n",
       "      <th>50%</th>\n",
       "      <td>71.000000</td>\n",
       "    </tr>\n",
       "    <tr>\n",
       "      <th>75%</th>\n",
       "      <td>101.250000</td>\n",
       "    </tr>\n",
       "    <tr>\n",
       "      <th>max</th>\n",
       "      <td>123.000000</td>\n",
       "    </tr>\n",
       "  </tbody>\n",
       "</table>\n",
       "</div>"
      ],
      "text/plain": [
       "         document\n",
       "count   10.000000\n",
       "mean    62.700000\n",
       "std     46.142412\n",
       "min      7.000000\n",
       "25%     17.000000\n",
       "50%     71.000000\n",
       "75%    101.250000\n",
       "max    123.000000"
      ]
     },
     "execution_count": 14,
     "metadata": {},
     "output_type": "execute_result"
    }
   ],
   "source": [
    "df_test.describe()"
   ]
  },
  {
   "cell_type": "code",
   "execution_count": 15,
   "id": "175763ce",
   "metadata": {
    "execution": {
     "iopub.execute_input": "2024-03-02T16:44:53.372963Z",
     "iopub.status.busy": "2024-03-02T16:44:53.372202Z",
     "iopub.status.idle": "2024-03-02T16:44:53.844586Z",
     "shell.execute_reply": "2024-03-02T16:44:53.843398Z"
    },
    "id": "HMKUgZqmHIYv",
    "outputId": "c1d9603a-47a5-4e66-9778-82c9d7740782",
    "papermill": {
     "duration": 0.495318,
     "end_time": "2024-03-02T16:44:53.846747",
     "exception": false,
     "start_time": "2024-03-02T16:44:53.351429",
     "status": "completed"
    },
    "tags": []
   },
   "outputs": [
    {
     "name": "stdout",
     "output_type": "stream",
     "text": [
      "10\n",
      "    "
     ]
    },
    {
     "data": {
      "application/vnd.jupyter.widget-view+json": {
       "model_id": "98a1919bd05f47eaa91ec625bbf8ec09",
       "version_major": 2,
       "version_minor": 0
      },
      "text/plain": [
       "Tokenizing #0:   0%|          | 0/5 [00:00<?, ?ex/s]"
      ]
     },
     "metadata": {},
     "output_type": "display_data"
    },
    {
     "data": {
      "application/vnd.jupyter.widget-view+json": {
       "model_id": "a1f11e4cb3264fcba5aecae79bdc0a12",
       "version_major": 2,
       "version_minor": 0
      },
      "text/plain": [
       "Tokenizing #1:   0%|          | 0/5 [00:00<?, ?ex/s]"
      ]
     },
     "metadata": {},
     "output_type": "display_data"
    },
    {
     "name": "stdout",
     "output_type": "stream",
     "text": [
      "Saving dataset to disk: /kaggle/working/\n",
      "CPU times: user 85.6 ms, sys: 59.4 ms, total: 145 ms\n",
      "Wall time: 465 ms\n"
     ]
    }
   ],
   "source": [
    "%%time\n",
    "if config.load_from_disk is None:\n",
    "\n",
    "    config.valid_stride = True\n",
    "    print(len(df_test))\n",
    "    \n",
    "    ds = Dataset.from_pandas(df_test)\n",
    "    ds = ds.map(\n",
    "      tokenize_row,\n",
    "      batched=False,\n",
    "      num_proc=2,\n",
    "      desc=\"Tokenizing\",\n",
    "  )\n",
    "\n",
    "    ds.save_to_disk(f\"{config.save_dir}test.dataset\")\n",
    "    print(\"Saving dataset to disk:\", config.save_dir)\n",
    "\n",
    "      \n",
    "        "
   ]
  },
  {
   "cell_type": "code",
   "execution_count": 16,
   "id": "dd21c1b0",
   "metadata": {
    "execution": {
     "iopub.execute_input": "2024-03-02T16:44:53.881288Z",
     "iopub.status.busy": "2024-03-02T16:44:53.880949Z",
     "iopub.status.idle": "2024-03-02T16:44:53.897138Z",
     "shell.execute_reply": "2024-03-02T16:44:53.896345Z"
    },
    "id": "6Lm743y2BGVj",
    "outputId": "2e4adfe3-0cd7-4946-d97f-c4b977186bb4",
    "papermill": {
     "duration": 0.03568,
     "end_time": "2024-03-02T16:44:53.899127",
     "exception": false,
     "start_time": "2024-03-02T16:44:53.863447",
     "status": "completed"
    },
    "tags": []
   },
   "outputs": [
    {
     "data": {
      "text/plain": [
       "dict_keys(['document', 'full_text', 'tokens', 'trailing_whitespace', 'input_ids', 'attention_mask', 'offset_mapping', 'token_map'])"
      ]
     },
     "execution_count": 16,
     "metadata": {},
     "output_type": "execute_result"
    }
   ],
   "source": [
    "ds[0].keys()"
   ]
  },
  {
   "cell_type": "markdown",
   "id": "38155d38",
   "metadata": {
    "id": "1d2ab2dd",
    "papermill": {
     "duration": 0.016214,
     "end_time": "2024-03-02T16:44:53.931673",
     "exception": false,
     "start_time": "2024-03-02T16:44:53.915459",
     "status": "completed"
    },
    "tags": []
   },
   "source": [
    "# 🔝 Competition Metrics"
   ]
  },
  {
   "cell_type": "code",
   "execution_count": 17,
   "id": "37b4376a",
   "metadata": {
    "execution": {
     "iopub.execute_input": "2024-03-02T16:44:54.006921Z",
     "iopub.status.busy": "2024-03-02T16:44:54.006092Z",
     "iopub.status.idle": "2024-03-02T16:44:54.017549Z",
     "shell.execute_reply": "2024-03-02T16:44:54.016650Z"
    },
    "id": "froeT1O3Q_iU",
    "papermill": {
     "duration": 0.07124,
     "end_time": "2024-03-02T16:44:54.019451",
     "exception": false,
     "start_time": "2024-03-02T16:44:53.948211",
     "status": "completed"
    },
    "tags": []
   },
   "outputs": [],
   "source": [
    "import pandas as pd\n",
    "\n",
    "def predictions_to_df(preds, ds, id2label=id2label):\n",
    "    triplets = []\n",
    "    pairs = set()\n",
    "    document, token, label, token_str = [], [], [], []\n",
    "    for p, token_map, offsets, tokens, doc in zip(preds, ds[\"token_map\"], ds[\"offset_mapping\"], ds[\"tokens\"], ds[\"document\"]):\n",
    "        # p = p.argmax(-1).cpu().detach().numpy()\n",
    "        p = p.cpu().detach().numpy()\n",
    "        \n",
    "        for token_pred, (start_idx, end_idx) in zip(p, offsets):\n",
    "            label_pred = id2label[(token_pred)]\n",
    "\n",
    "            if start_idx + end_idx == 0: continue\n",
    "\n",
    "            if token_map[start_idx] == -1:\n",
    "                start_idx += 1\n",
    "\n",
    "            # ignore \"\\n\\n\"\n",
    "            while start_idx < len(token_map) and tokens[token_map[start_idx]].isspace():\n",
    "                start_idx += 1\n",
    "\n",
    "            if start_idx >= len(token_map): break\n",
    "\n",
    "            \n",
    "            token_id = token_map[start_idx]\n",
    "\n",
    "            if label_pred == \"O\" or token_id == -1:\n",
    "                continue\n",
    "            \n",
    "            pair = (doc, token_id)\n",
    "    \n",
    "            if pair in pairs:\n",
    "                continue\n",
    "\n",
    "            \n",
    "            \n",
    "            document.append(doc)\n",
    "            token.append(token_id)\n",
    "            label.append(label_pred)\n",
    "            token_str.append(tokens[token_id])\n",
    "            pairs.add(pair)\n",
    "                \n",
    "            # ignore \"O\" predictions and whitespace preds\n",
    "            # if label_pred != \"O\" and token_id != -1:\n",
    "                # triplet = (label_pred, token_id, tokens[token_id])\n",
    "\n",
    "                # if triplet not in triplets:\n",
    "                #     document.append(doc)\n",
    "                #     token.append(token_id)\n",
    "                #     label.append(label_pred)\n",
    "                #     token_str.append(tokens[token_id])\n",
    "                #     triplets.append(triplet)\n",
    "\n",
    "    df = pd.DataFrame({\n",
    "        \"document\": document,\n",
    "        \"token\": token,\n",
    "        \"label\": label,\n",
    "        \"token_str\": token_str\n",
    "    })\n",
    "    df[\"row_id\"] = list(range(len(df)))\n",
    "    \n",
    "    return df\n"
   ]
  },
  {
   "cell_type": "markdown",
   "id": "60cc5683",
   "metadata": {
    "id": "a85b8d72",
    "papermill": {
     "duration": 0.01609,
     "end_time": "2024-03-02T16:44:54.051839",
     "exception": false,
     "start_time": "2024-03-02T16:44:54.035749",
     "status": "completed"
    },
    "tags": []
   },
   "source": [
    "# 🧠 Model"
   ]
  },
  {
   "cell_type": "code",
   "execution_count": 18,
   "id": "0ef0a61b",
   "metadata": {
    "execution": {
     "iopub.execute_input": "2024-03-02T16:44:54.086042Z",
     "iopub.status.busy": "2024-03-02T16:44:54.085536Z",
     "iopub.status.idle": "2024-03-02T16:44:54.091498Z",
     "shell.execute_reply": "2024-03-02T16:44:54.090632Z"
    },
    "id": "KEsEyR4myBZ1",
    "papermill": {
     "duration": 0.025118,
     "end_time": "2024-03-02T16:44:54.093387",
     "exception": false,
     "start_time": "2024-03-02T16:44:54.068269",
     "status": "completed"
    },
    "tags": []
   },
   "outputs": [],
   "source": [
    "\n",
    "def process_predictions(flattened_preds, threshold=0.875):\n",
    "    \n",
    "    preds_final = []\n",
    "    for predictions in flattened_preds:\n",
    "        \n",
    "        predictions_softmax = torch.softmax(predictions, dim=-1)        \n",
    "        predictions_argmax = predictions.argmax(-1)\n",
    "        predictions_without_O = predictions_softmax[ :, :12].argmax(-1)\n",
    "        \n",
    "        O_predictions = predictions_softmax[ :, 12]\n",
    "        pred_final = torch.where(O_predictions < threshold, predictions_without_O, predictions_argmax)        \n",
    "        preds_final.append(pred_final)\n",
    "    \n",
    "    return preds_final\n",
    "\n"
   ]
  },
  {
   "cell_type": "code",
   "execution_count": 19,
   "id": "d403ab3a",
   "metadata": {
    "execution": {
     "iopub.execute_input": "2024-03-02T16:44:54.127744Z",
     "iopub.status.busy": "2024-03-02T16:44:54.127274Z",
     "iopub.status.idle": "2024-03-02T16:44:54.162964Z",
     "shell.execute_reply": "2024-03-02T16:44:54.162102Z"
    },
    "id": "adf86db4",
    "papermill": {
     "duration": 0.054925,
     "end_time": "2024-03-02T16:44:54.164859",
     "exception": false,
     "start_time": "2024-03-02T16:44:54.109934",
     "status": "completed"
    },
    "tags": []
   },
   "outputs": [],
   "source": [
    "import random\n",
    "\n",
    "from peft import get_peft_model, LoraConfig, TaskType\n",
    "from transformers.models.llama.modeling_llama import *\n",
    "from transformers.modeling_outputs import TokenClassifierOutput\n",
    "\n",
    "class LlamaForTokenClassification(LlamaPreTrainedModel):\n",
    "    def __init__(self, config):\n",
    "        super().__init__(config)\n",
    "        self.num_labels = config.num_labels\n",
    "        self.model = LlamaModel(config)\n",
    "\n",
    "        self.post_init()\n",
    "\n",
    "    def get_input_embeddings(self):\n",
    "        return self.model.embed_tokens\n",
    "\n",
    "    def set_input_embeddings(self, value):\n",
    "        self.model.embed_tokens = value\n",
    "\n",
    "    def forward(\n",
    "        self,\n",
    "        input_ids: torch.LongTensor = None,\n",
    "        attention_mask: Optional[torch.Tensor] = None,\n",
    "        position_ids: Optional[torch.LongTensor] = None,\n",
    "        past_key_values: Optional[List[torch.FloatTensor]] = None,\n",
    "        inputs_embeds: Optional[torch.FloatTensor] = None,\n",
    "        labels: Optional[torch.LongTensor] = None,\n",
    "        use_cache: Optional[bool] = None,\n",
    "        output_attentions: Optional[bool] = None,\n",
    "        output_hidden_states: Optional[bool] = None,\n",
    "        return_dict: Optional[bool] = None,\n",
    "    ) -> Union[Tuple, SequenceClassifierOutputWithPast]:\n",
    "        r\"\"\"\n",
    "        labels (`torch.LongTensor` of shape `(batch_size,)`, *optional*):\n",
    "            Labels for computing the sequence classification/regression loss. Indices should be in `[0, ...,\n",
    "            config.num_labels - 1]`. If `config.num_labels == 1` a regression loss is computed (Mean-Square loss), If\n",
    "            `config.num_labels > 1` a classification loss is computed (Cross-Entropy).\n",
    "        \"\"\"\n",
    "        return_dict = return_dict if return_dict is not None else self.config.use_return_dict\n",
    "\n",
    "        outputs = self.model(\n",
    "            input_ids,\n",
    "            attention_mask=attention_mask,\n",
    "            position_ids=position_ids,\n",
    "            past_key_values=past_key_values,\n",
    "            inputs_embeds=inputs_embeds,\n",
    "            use_cache=use_cache,\n",
    "            output_attentions=output_attentions,\n",
    "            output_hidden_states=output_hidden_states,\n",
    "            return_dict=return_dict,\n",
    "        )\n",
    "        sequence_output = outputs[0]\n",
    "\n",
    "\n",
    "        return sequence_output\n",
    "\n",
    "\n",
    "class LSTMHead(nn.Module):\n",
    "    def __init__(self, in_features, hidden_dim, n_layers):\n",
    "        super().__init__()\n",
    "        self.lstm = nn.LSTM(in_features,\n",
    "                            hidden_dim,\n",
    "                            n_layers,\n",
    "                            batch_first=True,\n",
    "                            bidirectional=True,\n",
    "                            dropout=0.)\n",
    "        self.out_features = hidden_dim\n",
    "\n",
    "    def forward(self, x):\n",
    "        self.lstm.flatten_parameters()\n",
    "        hidden, (_, _) = self.lstm(x)\n",
    "        out = hidden\n",
    "        return out\n",
    "\n",
    "\n",
    "    \n",
    "    \n",
    "class PIIModel(pl.LightningModule):\n",
    "    def __init__(self,config):\n",
    "        super().__init__()\n",
    "        self.cfg = config\n",
    "        self.model_config = AutoConfig.from_pretrained(\n",
    "            config.model_name,\n",
    "        )\n",
    "\n",
    "        hidden_dropout_prob: float = 0.1\n",
    "        layer_norm_eps: float = 1e-7\n",
    "        self.model_config.update(\n",
    "            {\n",
    "                \"output_hidden_states\": True,\n",
    "                \"hidden_dropout_prob\": hidden_dropout_prob,\n",
    "                \"layer_norm_eps\": layer_norm_eps,\n",
    "                \"add_pooling_layer\": False,\n",
    "            }\n",
    "        )\n",
    "\n",
    "        self.transformers_model = LlamaForTokenClassification.from_pretrained(\n",
    "        config.model_name, num_labels=len(self.cfg.target_cols), id2label=id2label, label2id=label2id, \n",
    "        )\n",
    "        peft_config = LoraConfig(task_type=TaskType.TOKEN_CLS, inference_mode=False, r=8, lora_alpha=32, lora_dropout=0.0)\n",
    "        self.transformers_model = get_peft_model(self.transformers_model, peft_config)\n",
    "        self.transformers_model.print_trainable_parameters()\n",
    "        self.head = LSTMHead(in_features=self.model_config.hidden_size, hidden_dim=self.model_config.hidden_size//2, n_layers=2)\n",
    "        self.output = nn.Linear(self.model_config.hidden_size, len(self.cfg.target_cols))\n",
    "\n",
    "        self.loss_function = nn.CrossEntropyLoss(reduction='mean',ignore_index=-100) \n",
    "        self.validation_step_outputs = []\n",
    "\n",
    "    def forward(self, input_ids, attention_mask,train):\n",
    "        transformer_out = self.transformers_model(input_ids,attention_mask = attention_mask)\n",
    "        sequence_output = self.head(transformer_out)\n",
    "        logits = self.output(sequence_output)\n",
    "        return (logits, _)\n",
    "\n",
    "    def training_step(self,batch,batch_idx):\n",
    "        input_ids = batch['input_ids']\n",
    "        attention_mask = batch['attention_mask']\n",
    "        target = batch['labels'] \n",
    "\n",
    "        outputs = self(input_ids,attention_mask,train=True)\n",
    "        output = outputs[0]\n",
    "\n",
    "        # loss = self.loss_function(output.view(-1, len(self.cfg.target_cols)),target.view(-1))\n",
    "        loss = self.loss_function(output.view(-1,len(self.cfg.target_cols)), target.view(-1))\n",
    "\n",
    "        self.log('train_loss', loss , prog_bar=True)\n",
    "        return {'loss': loss}\n",
    "    \n",
    "    def train_epoch_end(self,outputs):\n",
    "        avg_loss = torch.stack([x['loss'] for x in outputs]).mean()\n",
    "        print(f'epoch {trainer.current_epoch} training loss {avg_loss}')\n",
    "        return {'train_loss': avg_loss} \n",
    "    \n",
    "    def train_dataloader(self):\n",
    "        return self._train_dataloader \n",
    "    \n",
    "    def validation_dataloader(self):\n",
    "        return self._validation_dataloader\n",
    "\n",
    "    def get_optimizer_params(self, encoder_lr, decoder_lr, weight_decay=0.0):\n",
    "        param_optimizer = list(model.named_parameters())\n",
    "        no_decay = [\"bias\", \"LayerNorm.bias\", \"LayerNorm.weight\"]\n",
    "        optimizer_parameters = [\n",
    "            {'params': [p for n, p in self.transformers_model.named_parameters() if not any(nd in n for nd in no_decay)],\n",
    "             'lr': encoder_lr, 'weight_decay': weight_decay},\n",
    "            {'params': [p for n, p in self.transformers_model.named_parameters() if any(nd in n for nd in no_decay)],\n",
    "             'lr': encoder_lr, 'weight_decay': 0.0},\n",
    "            {'params': [p for n, p in self.named_parameters() if \"transformers_model\" not in n],\n",
    "             'lr': decoder_lr, 'weight_decay': 0.0}\n",
    "        ]\n",
    "        return optimizer_parameters\n",
    "\n",
    "    def configure_optimizers(self):\n",
    "        optimizer = AdamW(self.parameters(), lr = config.learning_rate)\n",
    "\n",
    "        epoch_steps = self.cfg.data_length\n",
    "        batch_size = self.cfg.batch_size\n",
    "\n",
    "        warmup_steps = 0.1 * epoch_steps // batch_size\n",
    "        training_steps = self.cfg.epochs * epoch_steps // batch_size\n",
    "        # scheduler = get_linear_schedule_with_warmup(optimizer,warmup_steps,training_steps,-1)\n",
    "        scheduler = get_polynomial_decay_schedule_with_warmup(optimizer, warmup_steps, training_steps, lr_end=1e-6, power=3.0)\n",
    "\n",
    "        lr_scheduler_config = {\n",
    "                'scheduler': scheduler,\n",
    "                'interval': 'step',\n",
    "                'frequency': 1,\n",
    "            }\n",
    "\n",
    "        return {'optimizer': optimizer, 'lr_scheduler': lr_scheduler_config}\n",
    "    "
   ]
  },
  {
   "cell_type": "code",
   "execution_count": 20,
   "id": "df51cda2",
   "metadata": {
    "execution": {
     "iopub.execute_input": "2024-03-02T16:44:54.199281Z",
     "iopub.status.busy": "2024-03-02T16:44:54.198535Z",
     "iopub.status.idle": "2024-03-02T16:44:54.202694Z",
     "shell.execute_reply": "2024-03-02T16:44:54.201855Z"
    },
    "id": "QVRSOPT2N7HY",
    "papermill": {
     "duration": 0.023132,
     "end_time": "2024-03-02T16:44:54.204555",
     "exception": false,
     "start_time": "2024-03-02T16:44:54.181423",
     "status": "completed"
    },
    "tags": []
   },
   "outputs": [],
   "source": [
    "collator = DataCollatorForTokenClassification(tokenizer, pad_to_multiple_of=16)"
   ]
  },
  {
   "cell_type": "code",
   "execution_count": 21,
   "id": "263a8803",
   "metadata": {
    "execution": {
     "iopub.execute_input": "2024-03-02T16:44:54.238258Z",
     "iopub.status.busy": "2024-03-02T16:44:54.237993Z",
     "iopub.status.idle": "2024-03-02T16:44:54.245362Z",
     "shell.execute_reply": "2024-03-02T16:44:54.244525Z"
    },
    "papermill": {
     "duration": 0.026345,
     "end_time": "2024-03-02T16:44:54.247243",
     "exception": false,
     "start_time": "2024-03-02T16:44:54.220898",
     "status": "completed"
    },
    "tags": []
   },
   "outputs": [],
   "source": [
    "import torch\n",
    "import numpy as np\n",
    "import pandas as pd\n",
    "from tqdm import tqdm\n",
    "\n",
    "def predict(data_loader, model, config, ds_test):\n",
    "    model.eval()  \n",
    "    model.to(config.device)\n",
    "    \n",
    "    predictions = []\n",
    "    \n",
    "    prediction_outputs = []\n",
    "\n",
    "    for batch in tqdm(data_loader):\n",
    "        with torch.no_grad(): \n",
    "            \n",
    "            inputs = {key:val.reshape(val.shape[0], -1).to(config.device) for key,val in batch.items() if key in ['input_ids', 'attention_mask']}\n",
    "            outputs = model(input_ids = inputs['input_ids'], attention_mask = inputs['attention_mask'],train=False)[0]\n",
    "            \n",
    "            prediction_outputs.append(outputs)  # Collect raw predictions\n",
    "        \n",
    "    prediction_outputs = [logit for batch in prediction_outputs for logit in batch]\n",
    "    processed_predictions = process_predictions(prediction_outputs, )\n",
    "\n",
    "\n",
    "    pred_df = predictions_to_df(processed_predictions, ds_test)\n",
    "\n",
    "    return pred_df"
   ]
  },
  {
   "cell_type": "code",
   "execution_count": 22,
   "id": "5d647a8e",
   "metadata": {
    "execution": {
     "iopub.execute_input": "2024-03-02T16:44:54.282077Z",
     "iopub.status.busy": "2024-03-02T16:44:54.281745Z",
     "iopub.status.idle": "2024-03-02T16:47:04.430050Z",
     "shell.execute_reply": "2024-03-02T16:47:04.428922Z"
    },
    "id": "4ea1ecae",
    "outputId": "e2854da8-6dc9-4c52-fca6-0bc335c3f423",
    "papermill": {
     "duration": 130.168636,
     "end_time": "2024-03-02T16:47:04.432450",
     "exception": false,
     "start_time": "2024-03-02T16:44:54.263814",
     "status": "completed"
    },
    "tags": []
   },
   "outputs": [
    {
     "name": "stderr",
     "output_type": "stream",
     "text": [
      "You are using a model of type mistral to instantiate a model of type llama. This is not supported for all configurations of models and can yield errors.\n"
     ]
    },
    {
     "name": "stdout",
     "output_type": "stream",
     "text": [
      "====== FOLD RUNNING 0======\n",
      "Dataset Loaded....\n",
      "dict_keys(['input_ids', 'attention_mask'])\n",
      "Generating Test DataLoader\n",
      "trainable params: 1,597,440 || all params: 1,750,878,720 || trainable%: 0.09123647353484313\n",
      "prediction on test data\n"
     ]
    },
    {
     "name": "stderr",
     "output_type": "stream",
     "text": [
      "100%|██████████| 10/10 [00:10<00:00,  1.03s/it]\n"
     ]
    }
   ],
   "source": [
    "for fold in range(config.NFOLDS):\n",
    "    if fold != config.trn_fold:\n",
    "        continue\n",
    "    train_ds_list = []\n",
    "\n",
    "\n",
    "    print(f\"====== FOLD RUNNING {fold}======\")\n",
    "\n",
    "    keep_cols = {\"input_ids\", \"attention_mask\"}\n",
    "\n",
    "    test_ds = load_from_disk(f'{config.save_dir}test.dataset')\n",
    "    test_ds = test_ds.remove_columns([c for c in test_ds.column_names if c not in keep_cols])\n",
    "    config.data_length = len(test_ds)\n",
    "    config.len_token = len(tokenizer)\n",
    "    test_ds2 = load_from_disk(f'{config.save_dir}test.dataset')\n",
    "    \n",
    "    # swa_callback = pl.callbacks.StochasticWeightAveraging(swa_epoch_start=0.8, swa_lrs=None, \n",
    "                                                              # annealing_epochs=1, annealing_strategy='cos', \n",
    "                                                              # avg_fn=None, device=\"cuda\")\n",
    "    print('Dataset Loaded....')\n",
    "    print((test_ds[0].keys()))\n",
    "    print(\"Generating Test DataLoader\")\n",
    "    test_dataloader = DataLoader(test_ds, batch_size = config.batch_size, shuffle = False, num_workers= 4, pin_memory=False,collate_fn = collator)\n",
    "\n",
    "\n",
    "    model = PIIModel(config)\n",
    "    if config.ckpt_path is not None:\n",
    "        model.load_state_dict(torch.load(config.ckpt_path,'cpu')['state_dict'])\n",
    "\n",
    "    print(\"prediction on test data\")\n",
    "\n",
    "    sub_df = predict(test_dataloader, model, config, test_ds2)\n",
    "    \n",
    "    del model,test_dataloader,test_ds\n",
    "    gc.collect()\n",
    "    torch.cuda.empty_cache()\n"
   ]
  },
  {
   "cell_type": "code",
   "execution_count": 23,
   "id": "a4e7ee98",
   "metadata": {
    "execution": {
     "iopub.execute_input": "2024-03-02T16:47:04.470257Z",
     "iopub.status.busy": "2024-03-02T16:47:04.469509Z",
     "iopub.status.idle": "2024-03-02T16:47:04.473480Z",
     "shell.execute_reply": "2024-03-02T16:47:04.472645Z"
    },
    "papermill": {
     "duration": 0.024656,
     "end_time": "2024-03-02T16:47:04.475250",
     "exception": false,
     "start_time": "2024-03-02T16:47:04.450594",
     "status": "completed"
    },
    "tags": []
   },
   "outputs": [],
   "source": [
    "# sub_df2 = pd.read_csv('suba_949_public.csv')\n",
    "# sub_df2.head(2)"
   ]
  },
  {
   "cell_type": "code",
   "execution_count": 24,
   "id": "be419a4e",
   "metadata": {
    "execution": {
     "iopub.execute_input": "2024-03-02T16:47:04.511843Z",
     "iopub.status.busy": "2024-03-02T16:47:04.511320Z",
     "iopub.status.idle": "2024-03-02T16:47:05.512123Z",
     "shell.execute_reply": "2024-03-02T16:47:05.511097Z"
    },
    "id": "TwDobTBeBSpR",
    "papermill": {
     "duration": 1.021279,
     "end_time": "2024-03-02T16:47:05.514261",
     "exception": false,
     "start_time": "2024-03-02T16:47:04.492982",
     "status": "completed"
    },
    "tags": []
   },
   "outputs": [
    {
     "name": "stdout",
     "output_type": "stream",
     "text": [
      "rm: cannot remove '/kaggle/working/': Device or resource busy\r\n"
     ]
    }
   ],
   "source": [
    "!rm -rf /kaggle/working/\n"
   ]
  },
  {
   "cell_type": "code",
   "execution_count": 25,
   "id": "490388d2",
   "metadata": {
    "execution": {
     "iopub.execute_input": "2024-03-02T16:47:05.552019Z",
     "iopub.status.busy": "2024-03-02T16:47:05.551698Z",
     "iopub.status.idle": "2024-03-02T16:47:05.582466Z",
     "shell.execute_reply": "2024-03-02T16:47:05.581565Z"
    },
    "papermill": {
     "duration": 0.051817,
     "end_time": "2024-03-02T16:47:05.584414",
     "exception": false,
     "start_time": "2024-03-02T16:47:05.532597",
     "status": "completed"
    },
    "tags": []
   },
   "outputs": [],
   "source": [
    "sample_sub = pd.read_csv('/kaggle/input/pii-detection-removal-from-educational-data/sample_submission.csv')\n",
    "sub_df = sub_df[sample_sub.columns]\n",
    "\n",
    "# sub_fin = pd.concat([sub_df, sub_df2],axis=0).reset_index(drop=True)\n",
    "# sub_fin['row_id'] = [i for i in range(len(sub_fin))]\n",
    "\n",
    "sub_df[sample_sub.columns].to_csv('submission.csv',index=False)"
   ]
  },
  {
   "cell_type": "code",
   "execution_count": 26,
   "id": "976d223e",
   "metadata": {
    "execution": {
     "iopub.execute_input": "2024-03-02T16:47:05.621456Z",
     "iopub.status.busy": "2024-03-02T16:47:05.620685Z",
     "iopub.status.idle": "2024-03-02T16:47:05.624747Z",
     "shell.execute_reply": "2024-03-02T16:47:05.624018Z"
    },
    "id": "4POqgQR8BSr0",
    "papermill": {
     "duration": 0.024391,
     "end_time": "2024-03-02T16:47:05.626623",
     "exception": false,
     "start_time": "2024-03-02T16:47:05.602232",
     "status": "completed"
    },
    "tags": []
   },
   "outputs": [],
   "source": [
    "# sub_fin.head(2)"
   ]
  },
  {
   "cell_type": "code",
   "execution_count": null,
   "id": "363584e5",
   "metadata": {
    "papermill": {
     "duration": 0.017683,
     "end_time": "2024-03-02T16:47:05.661966",
     "exception": false,
     "start_time": "2024-03-02T16:47:05.644283",
     "status": "completed"
    },
    "tags": []
   },
   "outputs": [],
   "source": []
  },
  {
   "cell_type": "code",
   "execution_count": null,
   "id": "fc07cd7a",
   "metadata": {
    "papermill": {
     "duration": 0.017908,
     "end_time": "2024-03-02T16:47:05.698134",
     "exception": false,
     "start_time": "2024-03-02T16:47:05.680226",
     "status": "completed"
    },
    "tags": []
   },
   "outputs": [],
   "source": []
  }
 ],
 "metadata": {
  "kaggle": {
   "accelerator": "gpu",
   "dataSources": [
    {
     "databundleVersionId": 7500999,
     "sourceId": 66653,
     "sourceType": "competition"
    },
    {
     "datasetId": 723962,
     "sourceId": 1258474,
     "sourceType": "datasetVersion"
    },
    {
     "datasetId": 4498351,
     "sourceId": 7705140,
     "sourceType": "datasetVersion"
    },
    {
     "datasetId": 4511635,
     "sourceId": 7723136,
     "sourceType": "datasetVersion"
    },
    {
     "datasetId": 4519605,
     "sourceId": 7734092,
     "sourceType": "datasetVersion"
    },
    {
     "datasetId": 3516822,
     "sourceId": 7734228,
     "sourceType": "datasetVersion"
    },
    {
     "datasetId": 4521044,
     "sourceId": 7736041,
     "sourceType": "datasetVersion"
    },
    {
     "datasetId": 4524437,
     "sourceId": 7740906,
     "sourceType": "datasetVersion"
    },
    {
     "datasetId": 4524449,
     "sourceId": 7740919,
     "sourceType": "datasetVersion"
    }
   ],
   "isGpuEnabled": true,
   "isInternetEnabled": false,
   "language": "python",
   "sourceType": "notebook"
  },
  "kernelspec": {
   "display_name": "Python 3 (ipykernel)",
   "language": "python",
   "name": "python3"
  },
  "language_info": {
   "codemirror_mode": {
    "name": "ipython",
    "version": 3
   },
   "file_extension": ".py",
   "mimetype": "text/x-python",
   "name": "python",
   "nbconvert_exporter": "python",
   "pygments_lexer": "ipython3",
   "version": "3.8.10"
  },
  "papermill": {
   "default_parameters": {},
   "duration": 165.155729,
   "end_time": "2024-03-02T16:47:08.682279",
   "environment_variables": {},
   "exception": null,
   "input_path": "__notebook__.ipynb",
   "output_path": "__notebook__.ipynb",
   "parameters": {},
   "start_time": "2024-03-02T16:44:23.526550",
   "version": "2.5.0"
  },
  "widgets": {
   "application/vnd.jupyter.widget-state+json": {
    "state": {
     "1d6fc3c444774b28b5f42ff3e4d83c72": {
      "model_module": "@jupyter-widgets/controls",
      "model_module_version": "1.5.0",
      "model_name": "DescriptionStyleModel",
      "state": {
       "_model_module": "@jupyter-widgets/controls",
       "_model_module_version": "1.5.0",
       "_model_name": "DescriptionStyleModel",
       "_view_count": null,
       "_view_module": "@jupyter-widgets/base",
       "_view_module_version": "1.2.0",
       "_view_name": "StyleView",
       "description_width": ""
      }
     },
     "1f1fdf21d4a0446bb997b0f2c9bd5584": {
      "model_module": "@jupyter-widgets/controls",
      "model_module_version": "1.5.0",
      "model_name": "DescriptionStyleModel",
      "state": {
       "_model_module": "@jupyter-widgets/controls",
       "_model_module_version": "1.5.0",
       "_model_name": "DescriptionStyleModel",
       "_view_count": null,
       "_view_module": "@jupyter-widgets/base",
       "_view_module_version": "1.2.0",
       "_view_name": "StyleView",
       "description_width": ""
      }
     },
     "354f7538fcf049bd8300a4c8226c7ed8": {
      "model_module": "@jupyter-widgets/base",
      "model_module_version": "1.2.0",
      "model_name": "LayoutModel",
      "state": {
       "_model_module": "@jupyter-widgets/base",
       "_model_module_version": "1.2.0",
       "_model_name": "LayoutModel",
       "_view_count": null,
       "_view_module": "@jupyter-widgets/base",
       "_view_module_version": "1.2.0",
       "_view_name": "LayoutView",
       "align_content": null,
       "align_items": null,
       "align_self": null,
       "border": null,
       "bottom": null,
       "display": null,
       "flex": null,
       "flex_flow": null,
       "grid_area": null,
       "grid_auto_columns": null,
       "grid_auto_flow": null,
       "grid_auto_rows": null,
       "grid_column": null,
       "grid_gap": null,
       "grid_row": null,
       "grid_template_areas": null,
       "grid_template_columns": null,
       "grid_template_rows": null,
       "height": null,
       "justify_content": null,
       "justify_items": null,
       "left": null,
       "margin": null,
       "max_height": null,
       "max_width": null,
       "min_height": null,
       "min_width": null,
       "object_fit": null,
       "object_position": null,
       "order": null,
       "overflow": null,
       "overflow_x": null,
       "overflow_y": null,
       "padding": null,
       "right": null,
       "top": null,
       "visibility": null,
       "width": null
      }
     },
     "362fb957e06741d2bb0da4ffd89a1284": {
      "model_module": "@jupyter-widgets/controls",
      "model_module_version": "1.5.0",
      "model_name": "FloatProgressModel",
      "state": {
       "_dom_classes": [],
       "_model_module": "@jupyter-widgets/controls",
       "_model_module_version": "1.5.0",
       "_model_name": "FloatProgressModel",
       "_view_count": null,
       "_view_module": "@jupyter-widgets/controls",
       "_view_module_version": "1.5.0",
       "_view_name": "ProgressView",
       "bar_style": "success",
       "description": "",
       "description_tooltip": null,
       "layout": "IPY_MODEL_354f7538fcf049bd8300a4c8226c7ed8",
       "max": 5,
       "min": 0,
       "orientation": "horizontal",
       "style": "IPY_MODEL_efc57a0c3cef41079fef1ed07c8465a4",
       "value": 5
      }
     },
     "36eff1a5f1e54b09b515c5534ceadadc": {
      "model_module": "@jupyter-widgets/controls",
      "model_module_version": "1.5.0",
      "model_name": "HTMLModel",
      "state": {
       "_dom_classes": [],
       "_model_module": "@jupyter-widgets/controls",
       "_model_module_version": "1.5.0",
       "_model_name": "HTMLModel",
       "_view_count": null,
       "_view_module": "@jupyter-widgets/controls",
       "_view_module_version": "1.5.0",
       "_view_name": "HTMLView",
       "description": "",
       "description_tooltip": null,
       "layout": "IPY_MODEL_5c646060072142118921d8218322fd59",
       "placeholder": "​",
       "style": "IPY_MODEL_1d6fc3c444774b28b5f42ff3e4d83c72",
       "value": "Tokenizing #0: 100%"
      }
     },
     "51f0ac2f092641ba8c57addd03fdca1f": {
      "model_module": "@jupyter-widgets/base",
      "model_module_version": "1.2.0",
      "model_name": "LayoutModel",
      "state": {
       "_model_module": "@jupyter-widgets/base",
       "_model_module_version": "1.2.0",
       "_model_name": "LayoutModel",
       "_view_count": null,
       "_view_module": "@jupyter-widgets/base",
       "_view_module_version": "1.2.0",
       "_view_name": "LayoutView",
       "align_content": null,
       "align_items": null,
       "align_self": null,
       "border": null,
       "bottom": null,
       "display": null,
       "flex": null,
       "flex_flow": null,
       "grid_area": null,
       "grid_auto_columns": null,
       "grid_auto_flow": null,
       "grid_auto_rows": null,
       "grid_column": null,
       "grid_gap": null,
       "grid_row": null,
       "grid_template_areas": null,
       "grid_template_columns": null,
       "grid_template_rows": null,
       "height": null,
       "justify_content": null,
       "justify_items": null,
       "left": null,
       "margin": null,
       "max_height": null,
       "max_width": null,
       "min_height": null,
       "min_width": null,
       "object_fit": null,
       "object_position": null,
       "order": null,
       "overflow": null,
       "overflow_x": null,
       "overflow_y": null,
       "padding": null,
       "right": null,
       "top": null,
       "visibility": null,
       "width": null
      }
     },
     "5c646060072142118921d8218322fd59": {
      "model_module": "@jupyter-widgets/base",
      "model_module_version": "1.2.0",
      "model_name": "LayoutModel",
      "state": {
       "_model_module": "@jupyter-widgets/base",
       "_model_module_version": "1.2.0",
       "_model_name": "LayoutModel",
       "_view_count": null,
       "_view_module": "@jupyter-widgets/base",
       "_view_module_version": "1.2.0",
       "_view_name": "LayoutView",
       "align_content": null,
       "align_items": null,
       "align_self": null,
       "border": null,
       "bottom": null,
       "display": null,
       "flex": null,
       "flex_flow": null,
       "grid_area": null,
       "grid_auto_columns": null,
       "grid_auto_flow": null,
       "grid_auto_rows": null,
       "grid_column": null,
       "grid_gap": null,
       "grid_row": null,
       "grid_template_areas": null,
       "grid_template_columns": null,
       "grid_template_rows": null,
       "height": null,
       "justify_content": null,
       "justify_items": null,
       "left": null,
       "margin": null,
       "max_height": null,
       "max_width": null,
       "min_height": null,
       "min_width": null,
       "object_fit": null,
       "object_position": null,
       "order": null,
       "overflow": null,
       "overflow_x": null,
       "overflow_y": null,
       "padding": null,
       "right": null,
       "top": null,
       "visibility": null,
       "width": null
      }
     },
     "7189c2a20ba94affbbe3d4a1dc7dbcf2": {
      "model_module": "@jupyter-widgets/controls",
      "model_module_version": "1.5.0",
      "model_name": "HTMLModel",
      "state": {
       "_dom_classes": [],
       "_model_module": "@jupyter-widgets/controls",
       "_model_module_version": "1.5.0",
       "_model_name": "HTMLModel",
       "_view_count": null,
       "_view_module": "@jupyter-widgets/controls",
       "_view_module_version": "1.5.0",
       "_view_name": "HTMLView",
       "description": "",
       "description_tooltip": null,
       "layout": "IPY_MODEL_e59e8076316741c9a3625800c4f5cd8f",
       "placeholder": "​",
       "style": "IPY_MODEL_9486bfa812a348cf87ebb6f60a029b28",
       "value": "Tokenizing #1: 100%"
      }
     },
     "7d845624f0024739878febb7a6fdc478": {
      "model_module": "@jupyter-widgets/controls",
      "model_module_version": "1.5.0",
      "model_name": "HTMLModel",
      "state": {
       "_dom_classes": [],
       "_model_module": "@jupyter-widgets/controls",
       "_model_module_version": "1.5.0",
       "_model_name": "HTMLModel",
       "_view_count": null,
       "_view_module": "@jupyter-widgets/controls",
       "_view_module_version": "1.5.0",
       "_view_name": "HTMLView",
       "description": "",
       "description_tooltip": null,
       "layout": "IPY_MODEL_8592e5210b0a4062a7fd57ad9ed9f79f",
       "placeholder": "​",
       "style": "IPY_MODEL_1f1fdf21d4a0446bb997b0f2c9bd5584",
       "value": " 5/5 [00:00&lt;00:00, 58.37ex/s]"
      }
     },
     "8592e5210b0a4062a7fd57ad9ed9f79f": {
      "model_module": "@jupyter-widgets/base",
      "model_module_version": "1.2.0",
      "model_name": "LayoutModel",
      "state": {
       "_model_module": "@jupyter-widgets/base",
       "_model_module_version": "1.2.0",
       "_model_name": "LayoutModel",
       "_view_count": null,
       "_view_module": "@jupyter-widgets/base",
       "_view_module_version": "1.2.0",
       "_view_name": "LayoutView",
       "align_content": null,
       "align_items": null,
       "align_self": null,
       "border": null,
       "bottom": null,
       "display": null,
       "flex": null,
       "flex_flow": null,
       "grid_area": null,
       "grid_auto_columns": null,
       "grid_auto_flow": null,
       "grid_auto_rows": null,
       "grid_column": null,
       "grid_gap": null,
       "grid_row": null,
       "grid_template_areas": null,
       "grid_template_columns": null,
       "grid_template_rows": null,
       "height": null,
       "justify_content": null,
       "justify_items": null,
       "left": null,
       "margin": null,
       "max_height": null,
       "max_width": null,
       "min_height": null,
       "min_width": null,
       "object_fit": null,
       "object_position": null,
       "order": null,
       "overflow": null,
       "overflow_x": null,
       "overflow_y": null,
       "padding": null,
       "right": null,
       "top": null,
       "visibility": null,
       "width": null
      }
     },
     "8f90072aaaff4bd1ba94c24b220218b6": {
      "model_module": "@jupyter-widgets/controls",
      "model_module_version": "1.5.0",
      "model_name": "ProgressStyleModel",
      "state": {
       "_model_module": "@jupyter-widgets/controls",
       "_model_module_version": "1.5.0",
       "_model_name": "ProgressStyleModel",
       "_view_count": null,
       "_view_module": "@jupyter-widgets/base",
       "_view_module_version": "1.2.0",
       "_view_name": "StyleView",
       "bar_color": null,
       "description_width": ""
      }
     },
     "9486bfa812a348cf87ebb6f60a029b28": {
      "model_module": "@jupyter-widgets/controls",
      "model_module_version": "1.5.0",
      "model_name": "DescriptionStyleModel",
      "state": {
       "_model_module": "@jupyter-widgets/controls",
       "_model_module_version": "1.5.0",
       "_model_name": "DescriptionStyleModel",
       "_view_count": null,
       "_view_module": "@jupyter-widgets/base",
       "_view_module_version": "1.2.0",
       "_view_name": "StyleView",
       "description_width": ""
      }
     },
     "96f89c47efca4a73bb35e9deb7bc62cb": {
      "model_module": "@jupyter-widgets/controls",
      "model_module_version": "1.5.0",
      "model_name": "DescriptionStyleModel",
      "state": {
       "_model_module": "@jupyter-widgets/controls",
       "_model_module_version": "1.5.0",
       "_model_name": "DescriptionStyleModel",
       "_view_count": null,
       "_view_module": "@jupyter-widgets/base",
       "_view_module_version": "1.2.0",
       "_view_name": "StyleView",
       "description_width": ""
      }
     },
     "98a1919bd05f47eaa91ec625bbf8ec09": {
      "model_module": "@jupyter-widgets/controls",
      "model_module_version": "1.5.0",
      "model_name": "HBoxModel",
      "state": {
       "_dom_classes": [],
       "_model_module": "@jupyter-widgets/controls",
       "_model_module_version": "1.5.0",
       "_model_name": "HBoxModel",
       "_view_count": null,
       "_view_module": "@jupyter-widgets/controls",
       "_view_module_version": "1.5.0",
       "_view_name": "HBoxView",
       "box_style": "",
       "children": [
        "IPY_MODEL_36eff1a5f1e54b09b515c5534ceadadc",
        "IPY_MODEL_e019380e199b4c9fb913dd9883cebb5a",
        "IPY_MODEL_7d845624f0024739878febb7a6fdc478"
       ],
       "layout": "IPY_MODEL_d6104c2af4694f198598b3df2ef3edbd"
      }
     },
     "a1f11e4cb3264fcba5aecae79bdc0a12": {
      "model_module": "@jupyter-widgets/controls",
      "model_module_version": "1.5.0",
      "model_name": "HBoxModel",
      "state": {
       "_dom_classes": [],
       "_model_module": "@jupyter-widgets/controls",
       "_model_module_version": "1.5.0",
       "_model_name": "HBoxModel",
       "_view_count": null,
       "_view_module": "@jupyter-widgets/controls",
       "_view_module_version": "1.5.0",
       "_view_name": "HBoxView",
       "box_style": "",
       "children": [
        "IPY_MODEL_7189c2a20ba94affbbe3d4a1dc7dbcf2",
        "IPY_MODEL_362fb957e06741d2bb0da4ffd89a1284",
        "IPY_MODEL_d143649c4ab74017b8088f4520ae2379"
       ],
       "layout": "IPY_MODEL_be0960f3c9fa4d8fb97b02a972b05e44"
      }
     },
     "b713b5522e83463ca54e188ca5368d71": {
      "model_module": "@jupyter-widgets/base",
      "model_module_version": "1.2.0",
      "model_name": "LayoutModel",
      "state": {
       "_model_module": "@jupyter-widgets/base",
       "_model_module_version": "1.2.0",
       "_model_name": "LayoutModel",
       "_view_count": null,
       "_view_module": "@jupyter-widgets/base",
       "_view_module_version": "1.2.0",
       "_view_name": "LayoutView",
       "align_content": null,
       "align_items": null,
       "align_self": null,
       "border": null,
       "bottom": null,
       "display": null,
       "flex": null,
       "flex_flow": null,
       "grid_area": null,
       "grid_auto_columns": null,
       "grid_auto_flow": null,
       "grid_auto_rows": null,
       "grid_column": null,
       "grid_gap": null,
       "grid_row": null,
       "grid_template_areas": null,
       "grid_template_columns": null,
       "grid_template_rows": null,
       "height": null,
       "justify_content": null,
       "justify_items": null,
       "left": null,
       "margin": null,
       "max_height": null,
       "max_width": null,
       "min_height": null,
       "min_width": null,
       "object_fit": null,
       "object_position": null,
       "order": null,
       "overflow": null,
       "overflow_x": null,
       "overflow_y": null,
       "padding": null,
       "right": null,
       "top": null,
       "visibility": null,
       "width": null
      }
     },
     "be0960f3c9fa4d8fb97b02a972b05e44": {
      "model_module": "@jupyter-widgets/base",
      "model_module_version": "1.2.0",
      "model_name": "LayoutModel",
      "state": {
       "_model_module": "@jupyter-widgets/base",
       "_model_module_version": "1.2.0",
       "_model_name": "LayoutModel",
       "_view_count": null,
       "_view_module": "@jupyter-widgets/base",
       "_view_module_version": "1.2.0",
       "_view_name": "LayoutView",
       "align_content": null,
       "align_items": null,
       "align_self": null,
       "border": null,
       "bottom": null,
       "display": null,
       "flex": null,
       "flex_flow": null,
       "grid_area": null,
       "grid_auto_columns": null,
       "grid_auto_flow": null,
       "grid_auto_rows": null,
       "grid_column": null,
       "grid_gap": null,
       "grid_row": null,
       "grid_template_areas": null,
       "grid_template_columns": null,
       "grid_template_rows": null,
       "height": null,
       "justify_content": null,
       "justify_items": null,
       "left": null,
       "margin": null,
       "max_height": null,
       "max_width": null,
       "min_height": null,
       "min_width": null,
       "object_fit": null,
       "object_position": null,
       "order": null,
       "overflow": null,
       "overflow_x": null,
       "overflow_y": null,
       "padding": null,
       "right": null,
       "top": null,
       "visibility": null,
       "width": null
      }
     },
     "d143649c4ab74017b8088f4520ae2379": {
      "model_module": "@jupyter-widgets/controls",
      "model_module_version": "1.5.0",
      "model_name": "HTMLModel",
      "state": {
       "_dom_classes": [],
       "_model_module": "@jupyter-widgets/controls",
       "_model_module_version": "1.5.0",
       "_model_name": "HTMLModel",
       "_view_count": null,
       "_view_module": "@jupyter-widgets/controls",
       "_view_module_version": "1.5.0",
       "_view_name": "HTMLView",
       "description": "",
       "description_tooltip": null,
       "layout": "IPY_MODEL_b713b5522e83463ca54e188ca5368d71",
       "placeholder": "​",
       "style": "IPY_MODEL_96f89c47efca4a73bb35e9deb7bc62cb",
       "value": " 5/5 [00:00&lt;00:00, 68.85ex/s]"
      }
     },
     "d6104c2af4694f198598b3df2ef3edbd": {
      "model_module": "@jupyter-widgets/base",
      "model_module_version": "1.2.0",
      "model_name": "LayoutModel",
      "state": {
       "_model_module": "@jupyter-widgets/base",
       "_model_module_version": "1.2.0",
       "_model_name": "LayoutModel",
       "_view_count": null,
       "_view_module": "@jupyter-widgets/base",
       "_view_module_version": "1.2.0",
       "_view_name": "LayoutView",
       "align_content": null,
       "align_items": null,
       "align_self": null,
       "border": null,
       "bottom": null,
       "display": null,
       "flex": null,
       "flex_flow": null,
       "grid_area": null,
       "grid_auto_columns": null,
       "grid_auto_flow": null,
       "grid_auto_rows": null,
       "grid_column": null,
       "grid_gap": null,
       "grid_row": null,
       "grid_template_areas": null,
       "grid_template_columns": null,
       "grid_template_rows": null,
       "height": null,
       "justify_content": null,
       "justify_items": null,
       "left": null,
       "margin": null,
       "max_height": null,
       "max_width": null,
       "min_height": null,
       "min_width": null,
       "object_fit": null,
       "object_position": null,
       "order": null,
       "overflow": null,
       "overflow_x": null,
       "overflow_y": null,
       "padding": null,
       "right": null,
       "top": null,
       "visibility": null,
       "width": null
      }
     },
     "e019380e199b4c9fb913dd9883cebb5a": {
      "model_module": "@jupyter-widgets/controls",
      "model_module_version": "1.5.0",
      "model_name": "FloatProgressModel",
      "state": {
       "_dom_classes": [],
       "_model_module": "@jupyter-widgets/controls",
       "_model_module_version": "1.5.0",
       "_model_name": "FloatProgressModel",
       "_view_count": null,
       "_view_module": "@jupyter-widgets/controls",
       "_view_module_version": "1.5.0",
       "_view_name": "ProgressView",
       "bar_style": "success",
       "description": "",
       "description_tooltip": null,
       "layout": "IPY_MODEL_51f0ac2f092641ba8c57addd03fdca1f",
       "max": 5,
       "min": 0,
       "orientation": "horizontal",
       "style": "IPY_MODEL_8f90072aaaff4bd1ba94c24b220218b6",
       "value": 5
      }
     },
     "e59e8076316741c9a3625800c4f5cd8f": {
      "model_module": "@jupyter-widgets/base",
      "model_module_version": "1.2.0",
      "model_name": "LayoutModel",
      "state": {
       "_model_module": "@jupyter-widgets/base",
       "_model_module_version": "1.2.0",
       "_model_name": "LayoutModel",
       "_view_count": null,
       "_view_module": "@jupyter-widgets/base",
       "_view_module_version": "1.2.0",
       "_view_name": "LayoutView",
       "align_content": null,
       "align_items": null,
       "align_self": null,
       "border": null,
       "bottom": null,
       "display": null,
       "flex": null,
       "flex_flow": null,
       "grid_area": null,
       "grid_auto_columns": null,
       "grid_auto_flow": null,
       "grid_auto_rows": null,
       "grid_column": null,
       "grid_gap": null,
       "grid_row": null,
       "grid_template_areas": null,
       "grid_template_columns": null,
       "grid_template_rows": null,
       "height": null,
       "justify_content": null,
       "justify_items": null,
       "left": null,
       "margin": null,
       "max_height": null,
       "max_width": null,
       "min_height": null,
       "min_width": null,
       "object_fit": null,
       "object_position": null,
       "order": null,
       "overflow": null,
       "overflow_x": null,
       "overflow_y": null,
       "padding": null,
       "right": null,
       "top": null,
       "visibility": null,
       "width": null
      }
     },
     "efc57a0c3cef41079fef1ed07c8465a4": {
      "model_module": "@jupyter-widgets/controls",
      "model_module_version": "1.5.0",
      "model_name": "ProgressStyleModel",
      "state": {
       "_model_module": "@jupyter-widgets/controls",
       "_model_module_version": "1.5.0",
       "_model_name": "ProgressStyleModel",
       "_view_count": null,
       "_view_module": "@jupyter-widgets/base",
       "_view_module_version": "1.2.0",
       "_view_name": "StyleView",
       "bar_color": null,
       "description_width": ""
      }
     }
    },
    "version_major": 2,
    "version_minor": 0
   }
  }
 },
 "nbformat": 4,
 "nbformat_minor": 5
}
