{
 "cells": [
  {
   "cell_type": "code",
   "execution_count": 1,
   "metadata": {},
   "outputs": [],
   "source": [
    "import os\n",
    "os.environ[\"CUDA_VISIBLE_DEVICES\"]=\"1\"\n",
    "\n",
    "from collections import defaultdict\n",
    "from typing import Dict\n",
    "from datasets import Dataset, DatasetDict, load_dataset\n",
    "import pandas as pd\n",
    "import evaluate\n",
    "import numpy as np\n",
    "from transformers import (\n",
    "    AutoModelForTokenClassification, \n",
    "    TrainingArguments, \n",
    "    Trainer, \n",
    "    DataCollatorForTokenClassification, \n",
    "    AutoTokenizer, \n",
    "    EarlyStoppingCallback, \n",
    "    set_seed\n",
    ")\n",
    "from seqeval.metrics import (\n",
    "    recall_score, \n",
    "    precision_score, \n",
    "    classification_report, \n",
    "    f1_score\n",
    ")\n",
    "from scipy.special import softmax\n",
    "import torch\n",
    "from pathlib import Path\n",
    "import wandb\n",
    "import json\n",
    "from tqdm import tqdm\n",
    "import logging\n",
    "\n",
    "from utils import visualize_ents, apply_threshold\n",
    "\n",
    "random_seed = 42\n",
    "set_seed(random_seed)\n",
    "\n",
    "INFERENCE_MAX_LENGTH = 4000"
   ]
  },
  {
   "cell_type": "markdown",
   "metadata": {},
   "source": [
    "## Load dataset"
   ]
  },
  {
   "cell_type": "code",
   "execution_count": 2,
   "metadata": {},
   "outputs": [],
   "source": [
    "# Load dataset and convert ner_tags to labels\n",
    "\n",
    "test_df = pd.read_json(\"/archive/savkin/parsed_datasets/NER/PII_Data_Detection/orig_test.json\")\n",
    "\n",
    "id2label = {0: 'B-EMAIL', 1: 'B-ID_NUM', 2: 'B-NAME_STUDENT', 3: 'B-PHONE_NUM', 4: 'B-STREET_ADDRESS', 5: 'B-URL_PERSONAL', 6: 'B-USERNAME', 7: 'I-ID_NUM', 8: 'I-NAME_STUDENT', 9: 'I-PHONE_NUM', 10: 'I-STREET_ADDRESS', 11: 'I-URL_PERSONAL', 12: 'O'}\n",
    "label2id = {v:k for k,v in id2label.items()}\n",
    "O_label_id = label2id['O']\n",
    "\n",
    "\n",
    "dataset = Dataset.from_pandas(test_df)"
   ]
  },
  {
   "cell_type": "markdown",
   "metadata": {},
   "source": [
    "## Tokenization pipeline"
   ]
  },
  {
   "cell_type": "code",
   "execution_count": 3,
   "metadata": {},
   "outputs": [
    {
     "data": {
      "application/vnd.jupyter.widget-view+json": {
       "model_id": "1f546420c40544ec8c9d1b8d5ad97a59",
       "version_major": 2,
       "version_minor": 0
      },
      "text/plain": [
       "Map:   0%|          | 0/10 [00:00<?, ? examples/s]"
      ]
     },
     "metadata": {},
     "output_type": "display_data"
    }
   ],
   "source": [
    "model_checkpoint = f\"/archive/savkin/models/ner/PII Data Detection/deberta-base-4000\"\n",
    "tokenizer = AutoTokenizer.from_pretrained(model_checkpoint)\n",
    "\n",
    "\n",
    "# Tokenize dataset and align labels with tokens\n",
    "def tokenize_and_align_labels(examples):\n",
    "    tokenized_inputs = tokenizer(\n",
    "        examples[\"tokens\"], \n",
    "        truncation=True, \n",
    "        max_length=INFERENCE_MAX_LENGTH, \n",
    "        is_split_into_words=True\n",
    "    )\n",
    "\n",
    "    all_word_ids = []\n",
    "    for i in range(len(examples[\"tokens\"])):\n",
    "        word_ids = tokenized_inputs.word_ids(i)\n",
    "        all_word_ids.append(word_ids)\n",
    "\n",
    "    tokenized_inputs[\"word_ids\"] = all_word_ids\n",
    "    return tokenized_inputs\n",
    "\n",
    "tokenized_dataset = dataset.map(\n",
    "    tokenize_and_align_labels,\n",
    "    batched=True,\n",
    "    remove_columns=dataset.column_names\n",
    ")\n",
    "\n",
    "for row in tokenized_dataset:\n",
    "    assert len(row[\"word_ids\"]) == len(row[\"input_ids\"])"
   ]
  },
  {
   "cell_type": "markdown",
   "metadata": {},
   "source": [
    "# Inference"
   ]
  },
  {
   "cell_type": "code",
   "execution_count": 4,
   "metadata": {},
   "outputs": [],
   "source": [
    "\n",
    "# Load model and tokenizer\n",
    "model = AutoModelForTokenClassification.from_pretrained(model_checkpoint)\n",
    "data_collator = DataCollatorForTokenClassification(tokenizer=tokenizer)\n",
    "\n",
    "trainer = Trainer(\n",
    "    args = TrainingArguments(output_dir=\"tmp_trainer\", report_to=\"none\"),\n",
    "    model=model,\n",
    "    data_collator=data_collator\n",
    ")"
   ]
  },
  {
   "cell_type": "code",
   "execution_count": 5,
   "metadata": {},
   "outputs": [
    {
     "data": {
      "text/html": [],
      "text/plain": [
       "<IPython.core.display.HTML object>"
      ]
     },
     "metadata": {},
     "output_type": "display_data"
    }
   ],
   "source": [
    "# Infer model\n",
    "\n",
    "# best_threshold = model.config.best_threshold\n",
    "best_threshold = 0.9\n",
    "\n",
    "predictions = trainer.predict(tokenized_dataset)\n",
    "pred_probas = softmax(predictions.predictions, axis=-1).max(-1)\n",
    "pred_labels = apply_threshold(predictions.predictions, best_threshold, O_label_id)"
   ]
  },
  {
   "cell_type": "markdown",
   "metadata": {},
   "source": [
    "## Convert to competition format "
   ]
  },
  {
   "cell_type": "code",
   "execution_count": 7,
   "metadata": {},
   "outputs": [
    {
     "data": {
      "text/html": [
       "<div>\n",
       "<style scoped>\n",
       "    .dataframe tbody tr th:only-of-type {\n",
       "        vertical-align: middle;\n",
       "    }\n",
       "\n",
       "    .dataframe tbody tr th {\n",
       "        vertical-align: top;\n",
       "    }\n",
       "\n",
       "    .dataframe thead th {\n",
       "        text-align: right;\n",
       "    }\n",
       "</style>\n",
       "<table border=\"1\" class=\"dataframe\">\n",
       "  <thead>\n",
       "    <tr style=\"text-align: right;\">\n",
       "      <th></th>\n",
       "      <th>row_id</th>\n",
       "      <th>document</th>\n",
       "      <th>token</th>\n",
       "      <th>label</th>\n",
       "      <th>proba</th>\n",
       "    </tr>\n",
       "  </thead>\n",
       "  <tbody>\n",
       "    <tr>\n",
       "      <th>0</th>\n",
       "      <td>0</td>\n",
       "      <td>7</td>\n",
       "      <td>9</td>\n",
       "      <td>B-NAME_STUDENT</td>\n",
       "      <td>0.990726</td>\n",
       "    </tr>\n",
       "    <tr>\n",
       "      <th>1</th>\n",
       "      <td>0</td>\n",
       "      <td>7</td>\n",
       "      <td>10</td>\n",
       "      <td>I-NAME_STUDENT</td>\n",
       "      <td>0.964352</td>\n",
       "    </tr>\n",
       "    <tr>\n",
       "      <th>2</th>\n",
       "      <td>0</td>\n",
       "      <td>7</td>\n",
       "      <td>10</td>\n",
       "      <td>I-NAME_STUDENT</td>\n",
       "      <td>0.987722</td>\n",
       "    </tr>\n",
       "    <tr>\n",
       "      <th>3</th>\n",
       "      <td>0</td>\n",
       "      <td>7</td>\n",
       "      <td>482</td>\n",
       "      <td>B-NAME_STUDENT</td>\n",
       "      <td>0.983120</td>\n",
       "    </tr>\n",
       "    <tr>\n",
       "      <th>4</th>\n",
       "      <td>0</td>\n",
       "      <td>7</td>\n",
       "      <td>483</td>\n",
       "      <td>I-NAME_STUDENT</td>\n",
       "      <td>0.919441</td>\n",
       "    </tr>\n",
       "  </tbody>\n",
       "</table>\n",
       "</div>"
      ],
      "text/plain": [
       "   row_id  document  token           label     proba\n",
       "0       0         7      9  B-NAME_STUDENT  0.990726\n",
       "1       0         7     10  I-NAME_STUDENT  0.964352\n",
       "2       0         7     10  I-NAME_STUDENT  0.987722\n",
       "3       0         7    482  B-NAME_STUDENT  0.983120\n",
       "4       0         7    483  I-NAME_STUDENT  0.919441"
      ]
     },
     "execution_count": 7,
     "metadata": {},
     "output_type": "execute_result"
    }
   ],
   "source": [
    "submission = {\n",
    "    \"row_id\": [],\n",
    "    \"document\": [],\n",
    "    \"token\": [],\n",
    "    \"label\": [],\n",
    "    # \"word_str\": [],\n",
    "    \"proba\": []\n",
    "}\n",
    "\n",
    "for word_ids, row_id, document, words, p_labels, p_probas in zip(tokenized_dataset[\"word_ids\"], \n",
    "                                                                test_df.index, \n",
    "                                                                test_df[\"document\"], \n",
    "                                                                test_df[\"tokens\"], \n",
    "                                                                pred_labels,\n",
    "                                                                pred_probas):\n",
    "    for subtoken_id, (label_id, proba) in enumerate(zip(p_labels[:len(word_ids)], p_probas[:len(word_ids)])):\n",
    "        word_id = word_ids[subtoken_id]\n",
    "        if label_id != -100 and label_id != O_label_id and word_id is not None:\n",
    "            submission[\"row_id\"].append(row_id)\n",
    "            submission[\"document\"].append(document)\n",
    "            submission[\"token\"].append(word_id)\n",
    "            submission[\"label\"].append(id2label[label_id])\n",
    "            # submission[\"word_str\"].append(words[word_id])\n",
    "            submission[\"proba\"].append(proba)\n",
    "\n",
    "\n",
    "df = pd.DataFrame().from_dict(submission).drop_duplicates().sort_values(by=[\"document\", \"token\"])\n",
    "submission_df_subtoken_level = df[df[\"label\"] != \"O\"].copy(deep=True)\n",
    "submission_df_subtoken_level.head()"
   ]
  },
  {
   "cell_type": "code",
   "execution_count": 8,
   "metadata": {},
   "outputs": [
    {
     "data": {
      "text/html": [
       "<div>\n",
       "<style scoped>\n",
       "    .dataframe tbody tr th:only-of-type {\n",
       "        vertical-align: middle;\n",
       "    }\n",
       "\n",
       "    .dataframe tbody tr th {\n",
       "        vertical-align: top;\n",
       "    }\n",
       "\n",
       "    .dataframe thead th {\n",
       "        text-align: right;\n",
       "    }\n",
       "</style>\n",
       "<table border=\"1\" class=\"dataframe\">\n",
       "  <thead>\n",
       "    <tr style=\"text-align: right;\">\n",
       "      <th></th>\n",
       "      <th>row_id</th>\n",
       "      <th>document</th>\n",
       "      <th>token</th>\n",
       "      <th>label</th>\n",
       "    </tr>\n",
       "  </thead>\n",
       "  <tbody>\n",
       "    <tr>\n",
       "      <th>0</th>\n",
       "      <td>0</td>\n",
       "      <td>7</td>\n",
       "      <td>9</td>\n",
       "      <td>B-NAME_STUDENT</td>\n",
       "    </tr>\n",
       "    <tr>\n",
       "      <th>1</th>\n",
       "      <td>0</td>\n",
       "      <td>7</td>\n",
       "      <td>10</td>\n",
       "      <td>I-NAME_STUDENT</td>\n",
       "    </tr>\n",
       "    <tr>\n",
       "      <th>2</th>\n",
       "      <td>0</td>\n",
       "      <td>7</td>\n",
       "      <td>482</td>\n",
       "      <td>B-NAME_STUDENT</td>\n",
       "    </tr>\n",
       "    <tr>\n",
       "      <th>3</th>\n",
       "      <td>0</td>\n",
       "      <td>7</td>\n",
       "      <td>483</td>\n",
       "      <td>I-NAME_STUDENT</td>\n",
       "    </tr>\n",
       "    <tr>\n",
       "      <th>4</th>\n",
       "      <td>0</td>\n",
       "      <td>7</td>\n",
       "      <td>741</td>\n",
       "      <td>B-NAME_STUDENT</td>\n",
       "    </tr>\n",
       "  </tbody>\n",
       "</table>\n",
       "</div>"
      ],
      "text/plain": [
       "0  row_id  document  token           label\n",
       "0       0         7      9  B-NAME_STUDENT\n",
       "1       0         7     10  I-NAME_STUDENT\n",
       "2       0         7    482  B-NAME_STUDENT\n",
       "3       0         7    483  I-NAME_STUDENT\n",
       "4       0         7    741  B-NAME_STUDENT"
      ]
     },
     "execution_count": 8,
     "metadata": {},
     "output_type": "execute_result"
    }
   ],
   "source": [
    "def aggregate_subtokens(df, label_agg_type = \"most_frequent\", add_subtoken_info = False):\n",
    "    df = df.reset_index()\n",
    "    row = df.iloc[0]\n",
    "\n",
    "    if add_subtoken_info:\n",
    "        row[\"subtokens\"] = df[\"subtoken_str\"].agg(lambda x: x.tolist())\n",
    "        row[\"probas\"] = df[\"proba\"].agg(lambda x: x.tolist())\n",
    "\n",
    "    if label_agg_type == \"most_frequent\":\n",
    "        row[\"label\"] = df.groupby([\"label\"])[\"row_id\"].count().sort_values().index[-1]\n",
    "        row[\"agg_proba\"] = df[df[\"label\"] == row[\"label\"]][\"proba\"].agg(\"mean\")\n",
    "    elif label_agg_type == \"first\":\n",
    "        row[\"label\"] = df[\"label\"].agg(lambda x: x[0])\n",
    "        row[\"agg_proba\"] = df[\"proba\"].agg(lambda x: x[0])\n",
    "    elif label_agg_type == \"max_proba\":\n",
    "        row[\"label\"] = df.iloc[df[\"proba\"].idxmax()][\"label\"]\n",
    "        row[\"agg_proba\"] = df[\"proba\"].agg(\"max\")\n",
    "    \n",
    "    return row\n",
    "\n",
    "submission_df = submission_df_subtoken_level.groupby([\"document\", \"token\"]) \\\n",
    "                                            .apply(aggregate_subtokens, label_agg_type=\"most_frequent\") \\\n",
    "                                            .reset_index(drop=True) \\\n",
    "                                            .drop(columns=[\"index\", \"proba\", \"agg_proba\"])\n",
    "\n",
    "submission_df.head()"
   ]
  },
  {
   "cell_type": "code",
   "execution_count": 9,
   "metadata": {},
   "outputs": [],
   "source": [
    "submission_df[[\"row_id\", \"document\", \"token\", \"label\"]].to_csv(\"submission.csv\", index=False)"
   ]
  }
 ],
 "metadata": {
  "kernelspec": {
   "display_name": "Python 3 (ipykernel)",
   "language": "python",
   "name": "python3"
  },
  "language_info": {
   "codemirror_mode": {
    "name": "ipython",
    "version": 3
   },
   "file_extension": ".py",
   "mimetype": "text/x-python",
   "name": "python",
   "nbconvert_exporter": "python",
   "pygments_lexer": "ipython3",
   "version": "3.8.10"
  }
 },
 "nbformat": 4,
 "nbformat_minor": 4
}
